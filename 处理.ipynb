{
 "cells": [
  {
   "cell_type": "code",
   "execution_count": 1,
   "metadata": {},
   "outputs": [],
   "source": [
    "import numpy as np \n",
    "import pandas as pd \n",
    "import matplotlib.pyplot as plt \n",
    "import seaborn as sns \n",
    "import datetime\n",
    "%matplotlib inline\n",
    "plt.rcParams['font.sans-serif'] = ['KaiTi']  #中文\n",
    "plt.rcParams['axes.unicode_minus'] = False   #负号"
   ]
  },
  {
   "cell_type": "markdown",
   "metadata": {},
   "source": [
    "## 读取数据"
   ]
  },
  {
   "cell_type": "code",
   "execution_count": 2,
   "metadata": {},
   "outputs": [
    {
     "data": {
      "text/html": [
       "<div>\n",
       "<style scoped>\n",
       "    .dataframe tbody tr th:only-of-type {\n",
       "        vertical-align: middle;\n",
       "    }\n",
       "\n",
       "    .dataframe tbody tr th {\n",
       "        vertical-align: top;\n",
       "    }\n",
       "\n",
       "    .dataframe thead th {\n",
       "        text-align: right;\n",
       "    }\n",
       "</style>\n",
       "<table border=\"1\" class=\"dataframe\">\n",
       "  <thead>\n",
       "    <tr style=\"text-align: right;\">\n",
       "      <th></th>\n",
       "      <th>carid</th>\n",
       "      <th>tradeTime</th>\n",
       "      <th>brand</th>\n",
       "      <th>serial</th>\n",
       "      <th>model</th>\n",
       "      <th>mileage</th>\n",
       "      <th>color</th>\n",
       "      <th>cityid</th>\n",
       "      <th>carCode</th>\n",
       "      <th>transferCount</th>\n",
       "      <th>...</th>\n",
       "      <th>AF7</th>\n",
       "      <th>AF8</th>\n",
       "      <th>AF9</th>\n",
       "      <th>AF10</th>\n",
       "      <th>AF11</th>\n",
       "      <th>AF12</th>\n",
       "      <th>AF13</th>\n",
       "      <th>AF14</th>\n",
       "      <th>AF15</th>\n",
       "      <th>price</th>\n",
       "    </tr>\n",
       "  </thead>\n",
       "  <tbody>\n",
       "    <tr>\n",
       "      <th>0</th>\n",
       "      <td>1</td>\n",
       "      <td>2021-06-28</td>\n",
       "      <td>1</td>\n",
       "      <td>1</td>\n",
       "      <td>1</td>\n",
       "      <td>4.01</td>\n",
       "      <td>1</td>\n",
       "      <td>1</td>\n",
       "      <td>1.0</td>\n",
       "      <td>0</td>\n",
       "      <td>...</td>\n",
       "      <td>NaN</td>\n",
       "      <td>1.0</td>\n",
       "      <td>5.0</td>\n",
       "      <td>2.0</td>\n",
       "      <td>1</td>\n",
       "      <td>4220*1740*1625</td>\n",
       "      <td>201709.0</td>\n",
       "      <td>1</td>\n",
       "      <td>NaN</td>\n",
       "      <td>4.24</td>\n",
       "    </tr>\n",
       "    <tr>\n",
       "      <th>1</th>\n",
       "      <td>2</td>\n",
       "      <td>2021-06-25</td>\n",
       "      <td>2</td>\n",
       "      <td>2</td>\n",
       "      <td>2</td>\n",
       "      <td>8.60</td>\n",
       "      <td>1</td>\n",
       "      <td>2</td>\n",
       "      <td>1.0</td>\n",
       "      <td>0</td>\n",
       "      <td>...</td>\n",
       "      <td>NaN</td>\n",
       "      <td>2.0</td>\n",
       "      <td>4.0</td>\n",
       "      <td>3.0</td>\n",
       "      <td>1+2</td>\n",
       "      <td>4630*1775*1480</td>\n",
       "      <td>201609.0</td>\n",
       "      <td>2</td>\n",
       "      <td>NaN</td>\n",
       "      <td>7.38</td>\n",
       "    </tr>\n",
       "    <tr>\n",
       "      <th>2</th>\n",
       "      <td>5</td>\n",
       "      <td>2021-06-19</td>\n",
       "      <td>5</td>\n",
       "      <td>5</td>\n",
       "      <td>5</td>\n",
       "      <td>15.56</td>\n",
       "      <td>1</td>\n",
       "      <td>2</td>\n",
       "      <td>3.0</td>\n",
       "      <td>0</td>\n",
       "      <td>...</td>\n",
       "      <td>NaN</td>\n",
       "      <td>NaN</td>\n",
       "      <td>NaN</td>\n",
       "      <td>NaN</td>\n",
       "      <td>NaN</td>\n",
       "      <td>4515*1725*1445</td>\n",
       "      <td>NaN</td>\n",
       "      <td>2</td>\n",
       "      <td>NaN</td>\n",
       "      <td>1.00</td>\n",
       "    </tr>\n",
       "    <tr>\n",
       "      <th>3</th>\n",
       "      <td>6</td>\n",
       "      <td>2021-06-29</td>\n",
       "      <td>6</td>\n",
       "      <td>6</td>\n",
       "      <td>6</td>\n",
       "      <td>6.04</td>\n",
       "      <td>1</td>\n",
       "      <td>3</td>\n",
       "      <td>1.0</td>\n",
       "      <td>3</td>\n",
       "      <td>...</td>\n",
       "      <td>2018-08-18</td>\n",
       "      <td>2.0</td>\n",
       "      <td>5.0</td>\n",
       "      <td>2.0</td>\n",
       "      <td>1</td>\n",
       "      <td>4500*1834*1707</td>\n",
       "      <td>201608.0</td>\n",
       "      <td>2</td>\n",
       "      <td>NaN</td>\n",
       "      <td>4.38</td>\n",
       "    </tr>\n",
       "    <tr>\n",
       "      <th>4</th>\n",
       "      <td>7</td>\n",
       "      <td>2021-06-30</td>\n",
       "      <td>7</td>\n",
       "      <td>7</td>\n",
       "      <td>7</td>\n",
       "      <td>5.70</td>\n",
       "      <td>4</td>\n",
       "      <td>1</td>\n",
       "      <td>2.0</td>\n",
       "      <td>2</td>\n",
       "      <td>...</td>\n",
       "      <td>2020-09-20</td>\n",
       "      <td>1.0</td>\n",
       "      <td>5.0</td>\n",
       "      <td>2.0</td>\n",
       "      <td>1</td>\n",
       "      <td>4315*1783*1606</td>\n",
       "      <td>201204.0</td>\n",
       "      <td>1</td>\n",
       "      <td>NaN</td>\n",
       "      <td>5.90</td>\n",
       "    </tr>\n",
       "  </tbody>\n",
       "</table>\n",
       "<p>5 rows × 36 columns</p>\n",
       "</div>"
      ],
      "text/plain": [
       "   carid   tradeTime  brand  serial  model  mileage  color  cityid  carCode  \\\n",
       "0      1  2021-06-28      1       1      1     4.01      1       1      1.0   \n",
       "1      2  2021-06-25      2       2      2     8.60      1       2      1.0   \n",
       "2      5  2021-06-19      5       5      5    15.56      1       2      3.0   \n",
       "3      6  2021-06-29      6       6      6     6.04      1       3      1.0   \n",
       "4      7  2021-06-30      7       7      7     5.70      4       1      2.0   \n",
       "\n",
       "   transferCount  ...         AF7  AF8  AF9  AF10  AF11            AF12  \\\n",
       "0              0  ...         NaN  1.0  5.0   2.0     1  4220*1740*1625   \n",
       "1              0  ...         NaN  2.0  4.0   3.0   1+2  4630*1775*1480   \n",
       "2              0  ...         NaN  NaN  NaN   NaN   NaN  4515*1725*1445   \n",
       "3              3  ...  2018-08-18  2.0  5.0   2.0     1  4500*1834*1707   \n",
       "4              2  ...  2020-09-20  1.0  5.0   2.0     1  4315*1783*1606   \n",
       "\n",
       "       AF13  AF14  AF15  price  \n",
       "0  201709.0     1   NaN   4.24  \n",
       "1  201609.0     2   NaN   7.38  \n",
       "2       NaN     2   NaN   1.00  \n",
       "3  201608.0     2   NaN   4.38  \n",
       "4  201204.0     1   NaN   5.90  \n",
       "\n",
       "[5 rows x 36 columns]"
      ]
     },
     "execution_count": 2,
     "metadata": {},
     "output_type": "execute_result"
    }
   ],
   "source": [
    "columns=['carid', 'tradeTime', 'brand', 'serial', 'model', 'mileage', 'color','cityid', 'carCode', 'transferCount','seatings',\n",
    "         'registerDate', 'licenseDate', 'country', 'maketype', 'modelyear', 'displacement','gearbox','oiltype', 'newprice', \n",
    "         'AF1', 'AF2', 'AF3', 'AF4', 'AF5','AF6', 'AF7', 'AF8', 'AF9', 'AF10', 'AF11','AF12', 'AF13', 'AF14','AF15', 'price']\n",
    "\n",
    "data=pd.read_csv('附件1：估价训练数据.txt',sep='\\t',header=None,names=columns) \n",
    "data2=pd.read_csv('附件2：估价验证数据.txt',sep='\\t',header=None,names=columns[:-1]) \n",
    "data.head()"
   ]
  },
  {
   "cell_type": "code",
   "execution_count": 3,
   "metadata": {
    "scrolled": true
   },
   "outputs": [
    {
     "name": "stdout",
     "output_type": "stream",
     "text": [
      "<class 'pandas.core.frame.DataFrame'>\n",
      "RangeIndex: 30000 entries, 0 to 29999\n",
      "Data columns (total 36 columns):\n",
      " #   Column         Non-Null Count  Dtype  \n",
      "---  ------         --------------  -----  \n",
      " 0   carid          30000 non-null  int64  \n",
      " 1   tradeTime      30000 non-null  object \n",
      " 2   brand          30000 non-null  int64  \n",
      " 3   serial         30000 non-null  int64  \n",
      " 4   model          30000 non-null  int64  \n",
      " 5   mileage        30000 non-null  float64\n",
      " 6   color          30000 non-null  int64  \n",
      " 7   cityid         30000 non-null  int64  \n",
      " 8   carCode        29991 non-null  float64\n",
      " 9   transferCount  30000 non-null  int64  \n",
      " 10  seatings       30000 non-null  int64  \n",
      " 11  registerDate   30000 non-null  object \n",
      " 12  licenseDate    30000 non-null  object \n",
      " 13  country        26243 non-null  float64\n",
      " 14  maketype       26359 non-null  float64\n",
      " 15  modelyear      29688 non-null  float64\n",
      " 16  displacement   30000 non-null  float64\n",
      " 17  gearbox        29999 non-null  float64\n",
      " 18  oiltype        30000 non-null  int64  \n",
      " 19  newprice       30000 non-null  float64\n",
      " 20  AF1            28418 non-null  float64\n",
      " 21  AF2            30000 non-null  int64  \n",
      " 22  AF3            30000 non-null  int64  \n",
      " 23  AF4            17892 non-null  float64\n",
      " 24  AF5            30000 non-null  int64  \n",
      " 25  AF6            30000 non-null  int64  \n",
      " 26  AF7            11956 non-null  object \n",
      " 27  AF8            26225 non-null  float64\n",
      " 28  AF9            26256 non-null  float64\n",
      " 29  AF10           23759 non-null  float64\n",
      " 30  AF11           29539 non-null  object \n",
      " 31  AF12           30000 non-null  object \n",
      " 32  AF13           28381 non-null  float64\n",
      " 33  AF14           30000 non-null  int64  \n",
      " 34  AF15           2420 non-null   object \n",
      " 35  price          30000 non-null  float64\n",
      "dtypes: float64(15), int64(14), object(7)\n",
      "memory usage: 8.2+ MB\n",
      "<class 'pandas.core.frame.DataFrame'>\n",
      "RangeIndex: 5000 entries, 0 to 4999\n",
      "Data columns (total 35 columns):\n",
      " #   Column         Non-Null Count  Dtype  \n",
      "---  ------         --------------  -----  \n",
      " 0   carid          5000 non-null   int64  \n",
      " 1   tradeTime      5000 non-null   object \n",
      " 2   brand          5000 non-null   int64  \n",
      " 3   serial         5000 non-null   int64  \n",
      " 4   model          5000 non-null   int64  \n",
      " 5   mileage        5000 non-null   float64\n",
      " 6   color          5000 non-null   int64  \n",
      " 7   cityid         5000 non-null   int64  \n",
      " 8   carCode        5000 non-null   int64  \n",
      " 9   transferCount  5000 non-null   int64  \n",
      " 10  seatings       5000 non-null   int64  \n",
      " 11  registerDate   5000 non-null   object \n",
      " 12  licenseDate    5000 non-null   object \n",
      " 13  country        4604 non-null   float64\n",
      " 14  maketype       4625 non-null   float64\n",
      " 15  modelyear      4894 non-null   float64\n",
      " 16  displacement   5000 non-null   float64\n",
      " 17  gearbox        5000 non-null   int64  \n",
      " 18  oiltype        5000 non-null   int64  \n",
      " 19  newprice       5000 non-null   float64\n",
      " 20  AF1            4660 non-null   float64\n",
      " 21  AF2            5000 non-null   int64  \n",
      " 22  AF3            5000 non-null   int64  \n",
      " 23  AF4            3137 non-null   float64\n",
      " 24  AF5            5000 non-null   int64  \n",
      " 25  AF6            5000 non-null   int64  \n",
      " 26  AF7            1685 non-null   object \n",
      " 27  AF8            4584 non-null   float64\n",
      " 28  AF9            4587 non-null   float64\n",
      " 29  AF10           3769 non-null   float64\n",
      " 30  AF11           4927 non-null   object \n",
      " 31  AF12           4999 non-null   object \n",
      " 32  AF13           4740 non-null   float64\n",
      " 33  AF14           5000 non-null   int64  \n",
      " 34  AF15           281 non-null    object \n",
      "dtypes: float64(12), int64(16), object(7)\n",
      "memory usage: 1.3+ MB\n"
     ]
    },
    {
     "data": {
      "text/plain": [
       "(None, None)"
      ]
     },
     "execution_count": 3,
     "metadata": {},
     "output_type": "execute_result"
    }
   ],
   "source": [
    "data.infer_objects()\n",
    "data2.infer_objects()\n",
    "data.info() ,data2.info()#查看数据基础信息"
   ]
  },
  {
   "cell_type": "markdown",
   "metadata": {},
   "source": [
    "## 数据清洗"
   ]
  },
  {
   "cell_type": "code",
   "execution_count": 4,
   "metadata": {},
   "outputs": [
    {
     "data": {
      "text/plain": [
       "<Axes: >"
      ]
     },
     "execution_count": 4,
     "metadata": {},
     "output_type": "execute_result"
    },
    {
     "name": "stderr",
     "output_type": "stream",
     "text": [
      "findfont: Generic family 'sans-serif' not found because none of the following families were found: KaiTi\n",
      "findfont: Generic family 'sans-serif' not found because none of the following families were found: KaiTi\n",
      "findfont: Generic family 'sans-serif' not found because none of the following families were found: KaiTi\n",
      "findfont: Generic family 'sans-serif' not found because none of the following families were found: KaiTi\n",
      "findfont: Generic family 'sans-serif' not found because none of the following families were found: KaiTi\n",
      "findfont: Generic family 'sans-serif' not found because none of the following families were found: KaiTi\n",
      "findfont: Generic family 'sans-serif' not found because none of the following families were found: KaiTi\n",
      "findfont: Generic family 'sans-serif' not found because none of the following families were found: KaiTi\n",
      "findfont: Generic family 'sans-serif' not found because none of the following families were found: KaiTi\n",
      "findfont: Generic family 'sans-serif' not found because none of the following families were found: KaiTi\n",
      "findfont: Generic family 'sans-serif' not found because none of the following families were found: KaiTi\n",
      "findfont: Generic family 'sans-serif' not found because none of the following families were found: KaiTi\n",
      "findfont: Generic family 'sans-serif' not found because none of the following families were found: KaiTi\n",
      "findfont: Generic family 'sans-serif' not found because none of the following families were found: KaiTi\n",
      "findfont: Generic family 'sans-serif' not found because none of the following families were found: KaiTi\n",
      "findfont: Generic family 'sans-serif' not found because none of the following families were found: KaiTi\n",
      "findfont: Generic family 'sans-serif' not found because none of the following families were found: KaiTi\n",
      "findfont: Generic family 'sans-serif' not found because none of the following families were found: KaiTi\n",
      "findfont: Generic family 'sans-serif' not found because none of the following families were found: KaiTi\n",
      "findfont: Generic family 'sans-serif' not found because none of the following families were found: KaiTi\n",
      "findfont: Generic family 'sans-serif' not found because none of the following families were found: KaiTi\n",
      "findfont: Generic family 'sans-serif' not found because none of the following families were found: KaiTi\n",
      "findfont: Generic family 'sans-serif' not found because none of the following families were found: KaiTi\n",
      "findfont: Generic family 'sans-serif' not found because none of the following families were found: KaiTi\n",
      "findfont: Generic family 'sans-serif' not found because none of the following families were found: KaiTi\n",
      "findfont: Generic family 'sans-serif' not found because none of the following families were found: KaiTi\n",
      "findfont: Generic family 'sans-serif' not found because none of the following families were found: KaiTi\n",
      "findfont: Generic family 'sans-serif' not found because none of the following families were found: KaiTi\n",
      "findfont: Generic family 'sans-serif' not found because none of the following families were found: KaiTi\n",
      "findfont: Generic family 'sans-serif' not found because none of the following families were found: KaiTi\n",
      "findfont: Generic family 'sans-serif' not found because none of the following families were found: KaiTi\n",
      "findfont: Generic family 'sans-serif' not found because none of the following families were found: KaiTi\n",
      "findfont: Generic family 'sans-serif' not found because none of the following families were found: KaiTi\n",
      "findfont: Generic family 'sans-serif' not found because none of the following families were found: KaiTi\n",
      "findfont: Generic family 'sans-serif' not found because none of the following families were found: KaiTi\n",
      "findfont: Generic family 'sans-serif' not found because none of the following families were found: KaiTi\n",
      "findfont: Generic family 'sans-serif' not found because none of the following families were found: KaiTi\n",
      "findfont: Generic family 'sans-serif' not found because none of the following families were found: KaiTi\n",
      "findfont: Generic family 'sans-serif' not found because none of the following families were found: KaiTi\n",
      "findfont: Generic family 'sans-serif' not found because none of the following families were found: KaiTi\n",
      "findfont: Generic family 'sans-serif' not found because none of the following families were found: KaiTi\n",
      "findfont: Generic family 'sans-serif' not found because none of the following families were found: KaiTi\n",
      "findfont: Generic family 'sans-serif' not found because none of the following families were found: KaiTi\n",
      "findfont: Generic family 'sans-serif' not found because none of the following families were found: KaiTi\n",
      "findfont: Generic family 'sans-serif' not found because none of the following families were found: KaiTi\n",
      "findfont: Generic family 'sans-serif' not found because none of the following families were found: KaiTi\n",
      "findfont: Generic family 'sans-serif' not found because none of the following families were found: KaiTi\n",
      "findfont: Generic family 'sans-serif' not found because none of the following families were found: KaiTi\n",
      "findfont: Generic family 'sans-serif' not found because none of the following families were found: KaiTi\n",
      "findfont: Generic family 'sans-serif' not found because none of the following families were found: KaiTi\n",
      "findfont: Generic family 'sans-serif' not found because none of the following families were found: KaiTi\n",
      "findfont: Generic family 'sans-serif' not found because none of the following families were found: KaiTi\n",
      "findfont: Generic family 'sans-serif' not found because none of the following families were found: KaiTi\n",
      "findfont: Generic family 'sans-serif' not found because none of the following families were found: KaiTi\n",
      "findfont: Generic family 'sans-serif' not found because none of the following families were found: KaiTi\n",
      "findfont: Generic family 'sans-serif' not found because none of the following families were found: KaiTi\n",
      "findfont: Generic family 'sans-serif' not found because none of the following families were found: KaiTi\n",
      "findfont: Generic family 'sans-serif' not found because none of the following families were found: KaiTi\n",
      "findfont: Generic family 'sans-serif' not found because none of the following families were found: KaiTi\n",
      "findfont: Generic family 'sans-serif' not found because none of the following families were found: KaiTi\n",
      "findfont: Generic family 'sans-serif' not found because none of the following families were found: KaiTi\n",
      "findfont: Generic family 'sans-serif' not found because none of the following families were found: KaiTi\n",
      "findfont: Generic family 'sans-serif' not found because none of the following families were found: KaiTi\n",
      "findfont: Generic family 'sans-serif' not found because none of the following families were found: KaiTi\n",
      "findfont: Generic family 'sans-serif' not found because none of the following families were found: KaiTi\n",
      "findfont: Generic family 'sans-serif' not found because none of the following families were found: KaiTi\n",
      "findfont: Generic family 'sans-serif' not found because none of the following families were found: KaiTi\n",
      "findfont: Generic family 'sans-serif' not found because none of the following families were found: KaiTi\n",
      "findfont: Generic family 'sans-serif' not found because none of the following families were found: KaiTi\n",
      "findfont: Generic family 'sans-serif' not found because none of the following families were found: KaiTi\n",
      "findfont: Generic family 'sans-serif' not found because none of the following families were found: KaiTi\n",
      "findfont: Generic family 'sans-serif' not found because none of the following families were found: KaiTi\n",
      "findfont: Generic family 'sans-serif' not found because none of the following families were found: KaiTi\n",
      "findfont: Generic family 'sans-serif' not found because none of the following families were found: KaiTi\n",
      "findfont: Generic family 'sans-serif' not found because none of the following families were found: KaiTi\n",
      "findfont: Generic family 'sans-serif' not found because none of the following families were found: KaiTi\n",
      "findfont: Generic family 'sans-serif' not found because none of the following families were found: KaiTi\n",
      "findfont: Generic family 'sans-serif' not found because none of the following families were found: KaiTi\n",
      "findfont: Generic family 'sans-serif' not found because none of the following families were found: KaiTi\n",
      "findfont: Generic family 'sans-serif' not found because none of the following families were found: KaiTi\n",
      "findfont: Generic family 'sans-serif' not found because none of the following families were found: KaiTi\n",
      "findfont: Generic family 'sans-serif' not found because none of the following families were found: KaiTi\n",
      "findfont: Generic family 'sans-serif' not found because none of the following families were found: KaiTi\n",
      "findfont: Generic family 'sans-serif' not found because none of the following families were found: KaiTi\n",
      "findfont: Generic family 'sans-serif' not found because none of the following families were found: KaiTi\n",
      "findfont: Generic family 'sans-serif' not found because none of the following families were found: KaiTi\n",
      "findfont: Generic family 'sans-serif' not found because none of the following families were found: KaiTi\n",
      "findfont: Generic family 'sans-serif' not found because none of the following families were found: KaiTi\n",
      "findfont: Generic family 'sans-serif' not found because none of the following families were found: KaiTi\n",
      "findfont: Generic family 'sans-serif' not found because none of the following families were found: KaiTi\n",
      "findfont: Generic family 'sans-serif' not found because none of the following families were found: KaiTi\n",
      "findfont: Generic family 'sans-serif' not found because none of the following families were found: KaiTi\n",
      "findfont: Generic family 'sans-serif' not found because none of the following families were found: KaiTi\n",
      "findfont: Generic family 'sans-serif' not found because none of the following families were found: KaiTi\n",
      "findfont: Generic family 'sans-serif' not found because none of the following families were found: KaiTi\n",
      "findfont: Generic family 'sans-serif' not found because none of the following families were found: KaiTi\n",
      "findfont: Generic family 'sans-serif' not found because none of the following families were found: KaiTi\n",
      "findfont: Generic family 'sans-serif' not found because none of the following families were found: KaiTi\n",
      "findfont: Generic family 'sans-serif' not found because none of the following families were found: KaiTi\n",
      "findfont: Generic family 'sans-serif' not found because none of the following families were found: KaiTi\n",
      "findfont: Generic family 'sans-serif' not found because none of the following families were found: KaiTi\n",
      "findfont: Generic family 'sans-serif' not found because none of the following families were found: KaiTi\n",
      "findfont: Generic family 'sans-serif' not found because none of the following families were found: KaiTi\n",
      "findfont: Generic family 'sans-serif' not found because none of the following families were found: KaiTi\n",
      "findfont: Generic family 'sans-serif' not found because none of the following families were found: KaiTi\n",
      "findfont: Generic family 'sans-serif' not found because none of the following families were found: KaiTi\n",
      "findfont: Generic family 'sans-serif' not found because none of the following families were found: KaiTi\n",
      "findfont: Generic family 'sans-serif' not found because none of the following families were found: KaiTi\n",
      "findfont: Generic family 'sans-serif' not found because none of the following families were found: KaiTi\n",
      "findfont: Generic family 'sans-serif' not found because none of the following families were found: KaiTi\n",
      "findfont: Generic family 'sans-serif' not found because none of the following families were found: KaiTi\n",
      "findfont: Generic family 'sans-serif' not found because none of the following families were found: KaiTi\n",
      "findfont: Generic family 'sans-serif' not found because none of the following families were found: KaiTi\n",
      "findfont: Generic family 'sans-serif' not found because none of the following families were found: KaiTi\n",
      "findfont: Generic family 'sans-serif' not found because none of the following families were found: KaiTi\n",
      "findfont: Generic family 'sans-serif' not found because none of the following families were found: KaiTi\n",
      "findfont: Generic family 'sans-serif' not found because none of the following families were found: KaiTi\n",
      "findfont: Generic family 'sans-serif' not found because none of the following families were found: KaiTi\n",
      "findfont: Generic family 'sans-serif' not found because none of the following families were found: KaiTi\n",
      "findfont: Generic family 'sans-serif' not found because none of the following families were found: KaiTi\n",
      "findfont: Generic family 'sans-serif' not found because none of the following families were found: KaiTi\n",
      "findfont: Generic family 'sans-serif' not found because none of the following families were found: KaiTi\n",
      "findfont: Generic family 'sans-serif' not found because none of the following families were found: KaiTi\n",
      "findfont: Generic family 'sans-serif' not found because none of the following families were found: KaiTi\n",
      "findfont: Generic family 'sans-serif' not found because none of the following families were found: KaiTi\n",
      "findfont: Generic family 'sans-serif' not found because none of the following families were found: KaiTi\n",
      "findfont: Generic family 'sans-serif' not found because none of the following families were found: KaiTi\n",
      "findfont: Generic family 'sans-serif' not found because none of the following families were found: KaiTi\n",
      "findfont: Generic family 'sans-serif' not found because none of the following families were found: KaiTi\n",
      "findfont: Generic family 'sans-serif' not found because none of the following families were found: KaiTi\n",
      "findfont: Generic family 'sans-serif' not found because none of the following families were found: KaiTi\n",
      "findfont: Generic family 'sans-serif' not found because none of the following families were found: KaiTi\n",
      "findfont: Generic family 'sans-serif' not found because none of the following families were found: KaiTi\n",
      "findfont: Generic family 'sans-serif' not found because none of the following families were found: KaiTi\n",
      "findfont: Generic family 'sans-serif' not found because none of the following families were found: KaiTi\n",
      "findfont: Generic family 'sans-serif' not found because none of the following families were found: KaiTi\n",
      "findfont: Generic family 'sans-serif' not found because none of the following families were found: KaiTi\n",
      "findfont: Generic family 'sans-serif' not found because none of the following families were found: KaiTi\n",
      "findfont: Generic family 'sans-serif' not found because none of the following families were found: KaiTi\n",
      "findfont: Generic family 'sans-serif' not found because none of the following families were found: KaiTi\n",
      "findfont: Generic family 'sans-serif' not found because none of the following families were found: KaiTi\n",
      "findfont: Generic family 'sans-serif' not found because none of the following families were found: KaiTi\n",
      "findfont: Generic family 'sans-serif' not found because none of the following families were found: KaiTi\n",
      "findfont: Generic family 'sans-serif' not found because none of the following families were found: KaiTi\n",
      "findfont: Generic family 'sans-serif' not found because none of the following families were found: KaiTi\n",
      "findfont: Generic family 'sans-serif' not found because none of the following families were found: KaiTi\n",
      "findfont: Generic family 'sans-serif' not found because none of the following families were found: KaiTi\n",
      "findfont: Generic family 'sans-serif' not found because none of the following families were found: KaiTi\n",
      "findfont: Generic family 'sans-serif' not found because none of the following families were found: KaiTi\n",
      "findfont: Generic family 'sans-serif' not found because none of the following families were found: KaiTi\n",
      "findfont: Generic family 'sans-serif' not found because none of the following families were found: KaiTi\n",
      "findfont: Generic family 'sans-serif' not found because none of the following families were found: KaiTi\n",
      "findfont: Generic family 'sans-serif' not found because none of the following families were found: KaiTi\n",
      "findfont: Generic family 'sans-serif' not found because none of the following families were found: KaiTi\n",
      "findfont: Generic family 'sans-serif' not found because none of the following families were found: KaiTi\n",
      "findfont: Generic family 'sans-serif' not found because none of the following families were found: KaiTi\n",
      "findfont: Generic family 'sans-serif' not found because none of the following families were found: KaiTi\n",
      "findfont: Generic family 'sans-serif' not found because none of the following families were found: KaiTi\n",
      "findfont: Generic family 'sans-serif' not found because none of the following families were found: KaiTi\n",
      "findfont: Generic family 'sans-serif' not found because none of the following families were found: KaiTi\n",
      "findfont: Generic family 'sans-serif' not found because none of the following families were found: KaiTi\n",
      "findfont: Generic family 'sans-serif' not found because none of the following families were found: KaiTi\n",
      "findfont: Generic family 'sans-serif' not found because none of the following families were found: KaiTi\n",
      "findfont: Generic family 'sans-serif' not found because none of the following families were found: KaiTi\n",
      "findfont: Generic family 'sans-serif' not found because none of the following families were found: KaiTi\n",
      "findfont: Generic family 'sans-serif' not found because none of the following families were found: KaiTi\n"
     ]
    },
    {
     "data": {
      "image/png": "[encoded data removed]",
      "text/plain": [
       "<Figure size 2500x1000 with 2 Axes>"
      ]
     },
     "metadata": {},
     "output_type": "display_data"
    }
   ],
   "source": [
    "#观察缺失值\n",
    "import missingno as msno\n",
    "msno.matrix(data)"
   ]
  },
  {
   "cell_type": "code",
   "execution_count": 5,
   "metadata": {},
   "outputs": [
    {
     "data": {
      "text/plain": [
       "<Axes: >"
      ]
     },
     "execution_count": 5,
     "metadata": {},
     "output_type": "execute_result"
    },
    {
     "name": "stderr",
     "output_type": "stream",
     "text": [
      "findfont: Generic family 'sans-serif' not found because none of the following families were found: KaiTi\n",
      "findfont: Generic family 'sans-serif' not found because none of the following families were found: KaiTi\n",
      "findfont: Generic family 'sans-serif' not found because none of the following families were found: KaiTi\n",
      "findfont: Generic family 'sans-serif' not found because none of the following families were found: KaiTi\n",
      "findfont: Generic family 'sans-serif' not found because none of the following families were found: KaiTi\n",
      "findfont: Generic family 'sans-serif' not found because none of the following families were found: KaiTi\n",
      "findfont: Generic family 'sans-serif' not found because none of the following families were found: KaiTi\n",
      "findfont: Generic family 'sans-serif' not found because none of the following families were found: KaiTi\n",
      "findfont: Generic family 'sans-serif' not found because none of the following families were found: KaiTi\n",
      "findfont: Generic family 'sans-serif' not found because none of the following families were found: KaiTi\n",
      "findfont: Generic family 'sans-serif' not found because none of the following families were found: KaiTi\n",
      "findfont: Generic family 'sans-serif' not found because none of the following families were found: KaiTi\n",
      "findfont: Generic family 'sans-serif' not found because none of the following families were found: KaiTi\n",
      "findfont: Generic family 'sans-serif' not found because none of the following families were found: KaiTi\n",
      "findfont: Generic family 'sans-serif' not found because none of the following families were found: KaiTi\n",
      "findfont: Generic family 'sans-serif' not found because none of the following families were found: KaiTi\n",
      "findfont: Generic family 'sans-serif' not found because none of the following families were found: KaiTi\n",
      "findfont: Generic family 'sans-serif' not found because none of the following families were found: KaiTi\n",
      "findfont: Generic family 'sans-serif' not found because none of the following families were found: KaiTi\n",
      "findfont: Generic family 'sans-serif' not found because none of the following families were found: KaiTi\n",
      "findfont: Generic family 'sans-serif' not found because none of the following families were found: KaiTi\n",
      "findfont: Generic family 'sans-serif' not found because none of the following families were found: KaiTi\n",
      "findfont: Generic family 'sans-serif' not found because none of the following families were found: KaiTi\n",
      "findfont: Generic family 'sans-serif' not found because none of the following families were found: KaiTi\n",
      "findfont: Generic family 'sans-serif' not found because none of the following families were found: KaiTi\n",
      "findfont: Generic family 'sans-serif' not found because none of the following families were found: KaiTi\n",
      "findfont: Generic family 'sans-serif' not found because none of the following families were found: KaiTi\n",
      "findfont: Generic family 'sans-serif' not found because none of the following families were found: KaiTi\n",
      "findfont: Generic family 'sans-serif' not found because none of the following families were found: KaiTi\n",
      "findfont: Generic family 'sans-serif' not found because none of the following families were found: KaiTi\n",
      "findfont: Generic family 'sans-serif' not found because none of the following families were found: KaiTi\n",
      "findfont: Generic family 'sans-serif' not found because none of the following families were found: KaiTi\n",
      "findfont: Generic family 'sans-serif' not found because none of the following families were found: KaiTi\n",
      "findfont: Generic family 'sans-serif' not found because none of the following families were found: KaiTi\n",
      "findfont: Generic family 'sans-serif' not found because none of the following families were found: KaiTi\n",
      "findfont: Generic family 'sans-serif' not found because none of the following families were found: KaiTi\n",
      "findfont: Generic family 'sans-serif' not found because none of the following families were found: KaiTi\n",
      "findfont: Generic family 'sans-serif' not found because none of the following families were found: KaiTi\n",
      "findfont: Generic family 'sans-serif' not found because none of the following families were found: KaiTi\n",
      "findfont: Generic family 'sans-serif' not found because none of the following families were found: KaiTi\n",
      "findfont: Generic family 'sans-serif' not found because none of the following families were found: KaiTi\n",
      "findfont: Generic family 'sans-serif' not found because none of the following families were found: KaiTi\n",
      "findfont: Generic family 'sans-serif' not found because none of the following families were found: KaiTi\n",
      "findfont: Generic family 'sans-serif' not found because none of the following families were found: KaiTi\n",
      "findfont: Generic family 'sans-serif' not found because none of the following families were found: KaiTi\n",
      "findfont: Generic family 'sans-serif' not found because none of the following families were found: KaiTi\n",
      "findfont: Generic family 'sans-serif' not found because none of the following families were found: KaiTi\n",
      "findfont: Generic family 'sans-serif' not found because none of the following families were found: KaiTi\n",
      "findfont: Generic family 'sans-serif' not found because none of the following families were found: KaiTi\n",
      "findfont: Generic family 'sans-serif' not found because none of the following families were found: KaiTi\n",
      "findfont: Generic family 'sans-serif' not found because none of the following families were found: KaiTi\n",
      "findfont: Generic family 'sans-serif' not found because none of the following families were found: KaiTi\n",
      "findfont: Generic family 'sans-serif' not found because none of the following families were found: KaiTi\n",
      "findfont: Generic family 'sans-serif' not found because none of the following families were found: KaiTi\n",
      "findfont: Generic family 'sans-serif' not found because none of the following families were found: KaiTi\n",
      "findfont: Generic family 'sans-serif' not found because none of the following families were found: KaiTi\n",
      "findfont: Generic family 'sans-serif' not found because none of the following families were found: KaiTi\n",
      "findfont: Generic family 'sans-serif' not found because none of the following families were found: KaiTi\n",
      "findfont: Generic family 'sans-serif' not found because none of the following families were found: KaiTi\n",
      "findfont: Generic family 'sans-serif' not found because none of the following families were found: KaiTi\n",
      "findfont: Generic family 'sans-serif' not found because none of the following families were found: KaiTi\n",
      "findfont: Generic family 'sans-serif' not found because none of the following families were found: KaiTi\n",
      "findfont: Generic family 'sans-serif' not found because none of the following families were found: KaiTi\n",
      "findfont: Generic family 'sans-serif' not found because none of the following families were found: KaiTi\n",
      "findfont: Generic family 'sans-serif' not found because none of the following families were found: KaiTi\n",
      "findfont: Generic family 'sans-serif' not found because none of the following families were found: KaiTi\n",
      "findfont: Generic family 'sans-serif' not found because none of the following families were found: KaiTi\n",
      "findfont: Generic family 'sans-serif' not found because none of the following families were found: KaiTi\n",
      "findfont: Generic family 'sans-serif' not found because none of the following families were found: KaiTi\n",
      "findfont: Generic family 'sans-serif' not found because none of the following families were found: KaiTi\n",
      "findfont: Generic family 'sans-serif' not found because none of the following families were found: KaiTi\n",
      "findfont: Generic family 'sans-serif' not found because none of the following families were found: KaiTi\n",
      "findfont: Generic family 'sans-serif' not found because none of the following families were found: KaiTi\n",
      "findfont: Generic family 'sans-serif' not found because none of the following families were found: KaiTi\n",
      "findfont: Generic family 'sans-serif' not found because none of the following families were found: KaiTi\n",
      "findfont: Generic family 'sans-serif' not found because none of the following families were found: KaiTi\n",
      "findfont: Generic family 'sans-serif' not found because none of the following families were found: KaiTi\n",
      "findfont: Generic family 'sans-serif' not found because none of the following families were found: KaiTi\n",
      "findfont: Generic family 'sans-serif' not found because none of the following families were found: KaiTi\n",
      "findfont: Generic family 'sans-serif' not found because none of the following families were found: KaiTi\n",
      "findfont: Generic family 'sans-serif' not found because none of the following families were found: KaiTi\n",
      "findfont: Generic family 'sans-serif' not found because none of the following families were found: KaiTi\n",
      "findfont: Generic family 'sans-serif' not found because none of the following families were found: KaiTi\n",
      "findfont: Generic family 'sans-serif' not found because none of the following families were found: KaiTi\n",
      "findfont: Generic family 'sans-serif' not found because none of the following families were found: KaiTi\n",
      "findfont: Generic family 'sans-serif' not found because none of the following families were found: KaiTi\n",
      "findfont: Generic family 'sans-serif' not found because none of the following families were found: KaiTi\n",
      "findfont: Generic family 'sans-serif' not found because none of the following families were found: KaiTi\n",
      "findfont: Generic family 'sans-serif' not found because none of the following families were found: KaiTi\n",
      "findfont: Generic family 'sans-serif' not found because none of the following families were found: KaiTi\n",
      "findfont: Generic family 'sans-serif' not found because none of the following families were found: KaiTi\n",
      "findfont: Generic family 'sans-serif' not found because none of the following families were found: KaiTi\n",
      "findfont: Generic family 'sans-serif' not found because none of the following families were found: KaiTi\n",
      "findfont: Generic family 'sans-serif' not found because none of the following families were found: KaiTi\n",
      "findfont: Generic family 'sans-serif' not found because none of the following families were found: KaiTi\n",
      "findfont: Generic family 'sans-serif' not found because none of the following families were found: KaiTi\n",
      "findfont: Generic family 'sans-serif' not found because none of the following families were found: KaiTi\n",
      "findfont: Generic family 'sans-serif' not found because none of the following families were found: KaiTi\n",
      "findfont: Generic family 'sans-serif' not found because none of the following families were found: KaiTi\n",
      "findfont: Generic family 'sans-serif' not found because none of the following families were found: KaiTi\n",
      "findfont: Generic family 'sans-serif' not found because none of the following families were found: KaiTi\n",
      "findfont: Generic family 'sans-serif' not found because none of the following families were found: KaiTi\n",
      "findfont: Generic family 'sans-serif' not found because none of the following families were found: KaiTi\n",
      "findfont: Generic family 'sans-serif' not found because none of the following families were found: KaiTi\n",
      "findfont: Generic family 'sans-serif' not found because none of the following families were found: KaiTi\n",
      "findfont: Generic family 'sans-serif' not found because none of the following families were found: KaiTi\n",
      "findfont: Generic family 'sans-serif' not found because none of the following families were found: KaiTi\n",
      "findfont: Generic family 'sans-serif' not found because none of the following families were found: KaiTi\n",
      "findfont: Generic family 'sans-serif' not found because none of the following families were found: KaiTi\n",
      "findfont: Generic family 'sans-serif' not found because none of the following families were found: KaiTi\n",
      "findfont: Generic family 'sans-serif' not found because none of the following families were found: KaiTi\n",
      "findfont: Generic family 'sans-serif' not found because none of the following families were found: KaiTi\n",
      "findfont: Generic family 'sans-serif' not found because none of the following families were found: KaiTi\n",
      "findfont: Generic family 'sans-serif' not found because none of the following families were found: KaiTi\n",
      "findfont: Generic family 'sans-serif' not found because none of the following families were found: KaiTi\n",
      "findfont: Generic family 'sans-serif' not found because none of the following families were found: KaiTi\n",
      "findfont: Generic family 'sans-serif' not found because none of the following families were found: KaiTi\n",
      "findfont: Generic family 'sans-serif' not found because none of the following families were found: KaiTi\n",
      "findfont: Generic family 'sans-serif' not found because none of the following families were found: KaiTi\n",
      "findfont: Generic family 'sans-serif' not found because none of the following families were found: KaiTi\n",
      "findfont: Generic family 'sans-serif' not found because none of the following families were found: KaiTi\n",
      "findfont: Generic family 'sans-serif' not found because none of the following families were found: KaiTi\n",
      "findfont: Generic family 'sans-serif' not found because none of the following families were found: KaiTi\n",
      "findfont: Generic family 'sans-serif' not found because none of the following families were found: KaiTi\n",
      "findfont: Generic family 'sans-serif' not found because none of the following families were found: KaiTi\n",
      "findfont: Generic family 'sans-serif' not found because none of the following families were found: KaiTi\n",
      "findfont: Generic family 'sans-serif' not found because none of the following families were found: KaiTi\n",
      "findfont: Generic family 'sans-serif' not found because none of the following families were found: KaiTi\n",
      "findfont: Generic family 'sans-serif' not found because none of the following families were found: KaiTi\n",
      "findfont: Generic family 'sans-serif' not found because none of the following families were found: KaiTi\n",
      "findfont: Generic family 'sans-serif' not found because none of the following families were found: KaiTi\n",
      "findfont: Generic family 'sans-serif' not found because none of the following families were found: KaiTi\n",
      "findfont: Generic family 'sans-serif' not found because none of the following families were found: KaiTi\n",
      "findfont: Generic family 'sans-serif' not found because none of the following families were found: KaiTi\n",
      "findfont: Generic family 'sans-serif' not found because none of the following families were found: KaiTi\n",
      "findfont: Generic family 'sans-serif' not found because none of the following families were found: KaiTi\n",
      "findfont: Generic family 'sans-serif' not found because none of the following families were found: KaiTi\n",
      "findfont: Generic family 'sans-serif' not found because none of the following families were found: KaiTi\n",
      "findfont: Generic family 'sans-serif' not found because none of the following families were found: KaiTi\n",
      "findfont: Generic family 'sans-serif' not found because none of the following families were found: KaiTi\n",
      "findfont: Generic family 'sans-serif' not found because none of the following families were found: KaiTi\n",
      "findfont: Generic family 'sans-serif' not found because none of the following families were found: KaiTi\n",
      "findfont: Generic family 'sans-serif' not found because none of the following families were found: KaiTi\n",
      "findfont: Generic family 'sans-serif' not found because none of the following families were found: KaiTi\n",
      "findfont: Generic family 'sans-serif' not found because none of the following families were found: KaiTi\n",
      "findfont: Generic family 'sans-serif' not found because none of the following families were found: KaiTi\n",
      "findfont: Generic family 'sans-serif' not found because none of the following families were found: KaiTi\n",
      "findfont: Generic family 'sans-serif' not found because none of the following families were found: KaiTi\n",
      "findfont: Generic family 'sans-serif' not found because none of the following families were found: KaiTi\n",
      "findfont: Generic family 'sans-serif' not found because none of the following families were found: KaiTi\n",
      "findfont: Generic family 'sans-serif' not found because none of the following families were found: KaiTi\n",
      "findfont: Generic family 'sans-serif' not found because none of the following families were found: KaiTi\n",
      "findfont: Generic family 'sans-serif' not found because none of the following families were found: KaiTi\n",
      "findfont: Generic family 'sans-serif' not found because none of the following families were found: KaiTi\n",
      "findfont: Generic family 'sans-serif' not found because none of the following families were found: KaiTi\n",
      "findfont: Generic family 'sans-serif' not found because none of the following families were found: KaiTi\n",
      "findfont: Generic family 'sans-serif' not found because none of the following families were found: KaiTi\n",
      "findfont: Generic family 'sans-serif' not found because none of the following families were found: KaiTi\n",
      "findfont: Generic family 'sans-serif' not found because none of the following families were found: KaiTi\n",
      "findfont: Generic family 'sans-serif' not found because none of the following families were found: KaiTi\n",
      "findfont: Generic family 'sans-serif' not found because none of the following families were found: KaiTi\n",
      "findfont: Generic family 'sans-serif' not found because none of the following families were found: KaiTi\n"
     ]
    },
    {
     "data": {
      "image/png": "[encoded data removed]",
      "text/plain": [
       "<Figure size 2500x1000 with 2 Axes>"
      ]
     },
     "metadata": {},
     "output_type": "display_data"
    }
   ],
   "source": [
    "msno.matrix(data2)"
   ]
  },
  {
   "cell_type": "code",
   "execution_count": 6,
   "metadata": {},
   "outputs": [],
   "source": [
    "#删除id序号\n",
    "data.drop('carid',axis=1,inplace=True)\n",
    "ID=data2['carid']"
   ]
  },
  {
   "cell_type": "code",
   "execution_count": 7,
   "metadata": {},
   "outputs": [],
   "source": [
    "#若是有一行全为空值就删除\n",
    "data.dropna(how='all',inplace=True)\n",
    "data2.dropna(how='all',inplace=True)"
   ]
  },
  {
   "cell_type": "code",
   "execution_count": 8,
   "metadata": {},
   "outputs": [],
   "source": [
    "#取值唯一的变量删除\n",
    "for col in data.columns:\n",
    "    if len(data[col].value_counts())==1:\n",
    "        print(col)\n",
    "        data.drop(col,axis=1,inplace=True)"
   ]
  },
  {
   "cell_type": "code",
   "execution_count": 9,
   "metadata": {},
   "outputs": [
    {
     "name": "stdout",
     "output_type": "stream",
     "text": [
      "AF4\n",
      "AF7\n",
      "AF10\n",
      "AF15\n"
     ]
    }
   ],
   "source": [
    "#缺失到一定比例就删除\n",
    "miss_ratio=0.15\n",
    "for col in data.columns:\n",
    "    if  data[col].isnull().sum()>data.shape[0]*miss_ratio:\n",
    "        print(col)\n",
    "        data.drop(col,axis=1,inplace=True)"
   ]
  },
  {
   "cell_type": "code",
   "execution_count": 10,
   "metadata": {},
   "outputs": [
    {
     "data": {
      "text/html": [
       "<div>\n",
       "<style scoped>\n",
       "    .dataframe tbody tr th:only-of-type {\n",
       "        vertical-align: middle;\n",
       "    }\n",
       "\n",
       "    .dataframe tbody tr th {\n",
       "        vertical-align: top;\n",
       "    }\n",
       "\n",
       "    .dataframe thead th {\n",
       "        text-align: right;\n",
       "    }\n",
       "</style>\n",
       "<table border=\"1\" class=\"dataframe\">\n",
       "  <thead>\n",
       "    <tr style=\"text-align: right;\">\n",
       "      <th></th>\n",
       "      <th>brand</th>\n",
       "      <th>serial</th>\n",
       "      <th>model</th>\n",
       "      <th>mileage</th>\n",
       "      <th>color</th>\n",
       "      <th>cityid</th>\n",
       "      <th>carCode</th>\n",
       "      <th>transferCount</th>\n",
       "      <th>seatings</th>\n",
       "      <th>country</th>\n",
       "      <th>maketype</th>\n",
       "      <th>modelyear</th>\n",
       "      <th>displacement</th>\n",
       "      <th>gearbox</th>\n",
       "      <th>oiltype</th>\n",
       "      <th>newprice</th>\n",
       "      <th>AF1</th>\n",
       "      <th>AF2</th>\n",
       "      <th>AF3</th>\n",
       "      <th>AF5</th>\n",
       "      <th>AF6</th>\n",
       "      <th>AF8</th>\n",
       "      <th>AF9</th>\n",
       "      <th>AF13</th>\n",
       "      <th>AF14</th>\n",
       "      <th>price</th>\n",
       "    </tr>\n",
       "  </thead>\n",
       "  <tbody>\n",
       "    <tr>\n",
       "      <th>0</th>\n",
       "      <td>1</td>\n",
       "      <td>1</td>\n",
       "      <td>1</td>\n",
       "      <td>4.01</td>\n",
       "      <td>1</td>\n",
       "      <td>1</td>\n",
       "      <td>1.0</td>\n",
       "      <td>0</td>\n",
       "      <td>5</td>\n",
       "      <td>779413.0</td>\n",
       "      <td>1.0</td>\n",
       "      <td>2017.0</td>\n",
       "      <td>1.5</td>\n",
       "      <td>1.0</td>\n",
       "      <td>1</td>\n",
       "      <td>6.88</td>\n",
       "      <td>1.0</td>\n",
       "      <td>1</td>\n",
       "      <td>1</td>\n",
       "      <td>1</td>\n",
       "      <td>1</td>\n",
       "      <td>1.0</td>\n",
       "      <td>5.0</td>\n",
       "      <td>201709.0</td>\n",
       "      <td>1</td>\n",
       "      <td>4.24</td>\n",
       "    </tr>\n",
       "    <tr>\n",
       "      <th>1</th>\n",
       "      <td>2</td>\n",
       "      <td>2</td>\n",
       "      <td>2</td>\n",
       "      <td>8.60</td>\n",
       "      <td>1</td>\n",
       "      <td>2</td>\n",
       "      <td>1.0</td>\n",
       "      <td>0</td>\n",
       "      <td>5</td>\n",
       "      <td>779415.0</td>\n",
       "      <td>2.0</td>\n",
       "      <td>2017.0</td>\n",
       "      <td>1.2</td>\n",
       "      <td>2.0</td>\n",
       "      <td>1</td>\n",
       "      <td>11.98</td>\n",
       "      <td>1.0</td>\n",
       "      <td>2</td>\n",
       "      <td>2</td>\n",
       "      <td>2</td>\n",
       "      <td>2</td>\n",
       "      <td>2.0</td>\n",
       "      <td>4.0</td>\n",
       "      <td>201609.0</td>\n",
       "      <td>2</td>\n",
       "      <td>7.38</td>\n",
       "    </tr>\n",
       "    <tr>\n",
       "      <th>2</th>\n",
       "      <td>5</td>\n",
       "      <td>5</td>\n",
       "      <td>5</td>\n",
       "      <td>15.56</td>\n",
       "      <td>1</td>\n",
       "      <td>2</td>\n",
       "      <td>3.0</td>\n",
       "      <td>0</td>\n",
       "      <td>5</td>\n",
       "      <td>NaN</td>\n",
       "      <td>NaN</td>\n",
       "      <td>2008.0</td>\n",
       "      <td>1.6</td>\n",
       "      <td>4.0</td>\n",
       "      <td>1</td>\n",
       "      <td>12.78</td>\n",
       "      <td>1.0</td>\n",
       "      <td>2</td>\n",
       "      <td>2</td>\n",
       "      <td>5</td>\n",
       "      <td>2</td>\n",
       "      <td>NaN</td>\n",
       "      <td>NaN</td>\n",
       "      <td>NaN</td>\n",
       "      <td>2</td>\n",
       "      <td>1.00</td>\n",
       "    </tr>\n",
       "    <tr>\n",
       "      <th>3</th>\n",
       "      <td>6</td>\n",
       "      <td>6</td>\n",
       "      <td>6</td>\n",
       "      <td>6.04</td>\n",
       "      <td>1</td>\n",
       "      <td>3</td>\n",
       "      <td>1.0</td>\n",
       "      <td>3</td>\n",
       "      <td>5</td>\n",
       "      <td>779413.0</td>\n",
       "      <td>1.0</td>\n",
       "      <td>2016.0</td>\n",
       "      <td>1.3</td>\n",
       "      <td>2.0</td>\n",
       "      <td>1</td>\n",
       "      <td>9.49</td>\n",
       "      <td>1.0</td>\n",
       "      <td>5</td>\n",
       "      <td>2</td>\n",
       "      <td>6</td>\n",
       "      <td>1</td>\n",
       "      <td>2.0</td>\n",
       "      <td>5.0</td>\n",
       "      <td>201608.0</td>\n",
       "      <td>2</td>\n",
       "      <td>4.38</td>\n",
       "    </tr>\n",
       "    <tr>\n",
       "      <th>4</th>\n",
       "      <td>7</td>\n",
       "      <td>7</td>\n",
       "      <td>7</td>\n",
       "      <td>5.70</td>\n",
       "      <td>4</td>\n",
       "      <td>1</td>\n",
       "      <td>2.0</td>\n",
       "      <td>2</td>\n",
       "      <td>5</td>\n",
       "      <td>779415.0</td>\n",
       "      <td>2.0</td>\n",
       "      <td>2012.0</td>\n",
       "      <td>2.0</td>\n",
       "      <td>5.0</td>\n",
       "      <td>1</td>\n",
       "      <td>18.08</td>\n",
       "      <td>1.0</td>\n",
       "      <td>5</td>\n",
       "      <td>2</td>\n",
       "      <td>7</td>\n",
       "      <td>1</td>\n",
       "      <td>1.0</td>\n",
       "      <td>5.0</td>\n",
       "      <td>201204.0</td>\n",
       "      <td>1</td>\n",
       "      <td>5.90</td>\n",
       "    </tr>\n",
       "  </tbody>\n",
       "</table>\n",
       "</div>"
      ],
      "text/plain": [
       "   brand  serial  model  mileage  color  cityid  carCode  transferCount  \\\n",
       "0      1       1      1     4.01      1       1      1.0              0   \n",
       "1      2       2      2     8.60      1       2      1.0              0   \n",
       "2      5       5      5    15.56      1       2      3.0              0   \n",
       "3      6       6      6     6.04      1       3      1.0              3   \n",
       "4      7       7      7     5.70      4       1      2.0              2   \n",
       "\n",
       "   seatings   country  maketype  modelyear  displacement  gearbox  oiltype  \\\n",
       "0         5  779413.0       1.0     2017.0           1.5      1.0        1   \n",
       "1         5  779415.0       2.0     2017.0           1.2      2.0        1   \n",
       "2         5       NaN       NaN     2008.0           1.6      4.0        1   \n",
       "3         5  779413.0       1.0     2016.0           1.3      2.0        1   \n",
       "4         5  779415.0       2.0     2012.0           2.0      5.0        1   \n",
       "\n",
       "   newprice  AF1  AF2  AF3  AF5  AF6  AF8  AF9      AF13  AF14  price  \n",
       "0      6.88  1.0    1    1    1    1  1.0  5.0  201709.0     1   4.24  \n",
       "1     11.98  1.0    2    2    2    2  2.0  4.0  201609.0     2   7.38  \n",
       "2     12.78  1.0    2    2    5    2  NaN  NaN       NaN     2   1.00  \n",
       "3      9.49  1.0    5    2    6    1  2.0  5.0  201608.0     2   4.38  \n",
       "4     18.08  1.0    5    2    7    1  1.0  5.0  201204.0     1   5.90  "
      ]
     },
     "execution_count": 10,
     "metadata": {},
     "output_type": "execute_result"
    }
   ],
   "source": [
    "#查看数值型数据,\n",
    "pd.set_option('display.max_columns', 30)\n",
    "data.select_dtypes(exclude=['object']).head()"
   ]
  },
  {
   "cell_type": "markdown",
   "metadata": {},
   "source": [
    "#有的是分类数据，有的是日期,需要处理一下"
   ]
  },
  {
   "cell_type": "code",
   "execution_count": 11,
   "metadata": {},
   "outputs": [],
   "source": [
    "#删除不要数值变量,不知道含义\n",
    "data.drop('AF13',axis=1,inplace=True)"
   ]
  },
  {
   "cell_type": "code",
   "execution_count": 12,
   "metadata": {},
   "outputs": [
    {
     "name": "stdout",
     "output_type": "stream",
     "text": [
      "oiltype 最多的取值为1，异众比例为0.032,太小了，没区分度删掉\n",
      "AF1 最多的取值为1.0，异众比例为0.0544,太小了，没区分度删掉\n",
      "AF3 最多的取值为2，异众比例为0.0184,太小了，没区分度删掉\n"
     ]
    }
   ],
   "source": [
    "#计算异众比例\n",
    "variation_ratio_s=0.1\n",
    "for col in data.select_dtypes(exclude=['object']).columns:\n",
    "    df_count=data[col].value_counts()\n",
    "    kind=df_count.index[0]\n",
    "    variation_ratio=1-(df_count.iloc[0]/len(data[col]))\n",
    "    if variation_ratio<variation_ratio_s:\n",
    "        print(f'{col} 最多的取值为{kind}，异众比例为{round(variation_ratio,4)},太小了，没区分度删掉')\n",
    "        data.drop(col,axis=1,inplace=True)"
   ]
  },
  {
   "cell_type": "code",
   "execution_count": 13,
   "metadata": {},
   "outputs": [
    {
     "data": {
      "text/html": [
       "<div>\n",
       "<style scoped>\n",
       "    .dataframe tbody tr th:only-of-type {\n",
       "        vertical-align: middle;\n",
       "    }\n",
       "\n",
       "    .dataframe tbody tr th {\n",
       "        vertical-align: top;\n",
       "    }\n",
       "\n",
       "    .dataframe thead th {\n",
       "        text-align: right;\n",
       "    }\n",
       "</style>\n",
       "<table border=\"1\" class=\"dataframe\">\n",
       "  <thead>\n",
       "    <tr style=\"text-align: right;\">\n",
       "      <th></th>\n",
       "      <th>tradeTime</th>\n",
       "      <th>registerDate</th>\n",
       "      <th>licenseDate</th>\n",
       "      <th>AF11</th>\n",
       "      <th>AF12</th>\n",
       "    </tr>\n",
       "  </thead>\n",
       "  <tbody>\n",
       "    <tr>\n",
       "      <th>0</th>\n",
       "      <td>2021-06-28</td>\n",
       "      <td>2017-12-01</td>\n",
       "      <td>2018-01-26</td>\n",
       "      <td>1</td>\n",
       "      <td>4220*1740*1625</td>\n",
       "    </tr>\n",
       "    <tr>\n",
       "      <th>1</th>\n",
       "      <td>2021-06-25</td>\n",
       "      <td>2016-12-01</td>\n",
       "      <td>2017-03-21</td>\n",
       "      <td>1+2</td>\n",
       "      <td>4630*1775*1480</td>\n",
       "    </tr>\n",
       "    <tr>\n",
       "      <th>2</th>\n",
       "      <td>2021-06-19</td>\n",
       "      <td>2008-02-01</td>\n",
       "      <td>2008-02-27</td>\n",
       "      <td>NaN</td>\n",
       "      <td>4515*1725*1445</td>\n",
       "    </tr>\n",
       "    <tr>\n",
       "      <th>3</th>\n",
       "      <td>2021-06-29</td>\n",
       "      <td>2016-08-01</td>\n",
       "      <td>2016-09-09</td>\n",
       "      <td>1</td>\n",
       "      <td>4500*1834*1707</td>\n",
       "    </tr>\n",
       "    <tr>\n",
       "      <th>4</th>\n",
       "      <td>2021-06-30</td>\n",
       "      <td>2012-08-01</td>\n",
       "      <td>2012-08-28</td>\n",
       "      <td>1</td>\n",
       "      <td>4315*1783*1606</td>\n",
       "    </tr>\n",
       "  </tbody>\n",
       "</table>\n",
       "</div>"
      ],
      "text/plain": [
       "    tradeTime registerDate licenseDate AF11            AF12\n",
       "0  2021-06-28   2017-12-01  2018-01-26    1  4220*1740*1625\n",
       "1  2021-06-25   2016-12-01  2017-03-21  1+2  4630*1775*1480\n",
       "2  2021-06-19   2008-02-01  2008-02-27  NaN  4515*1725*1445\n",
       "3  2021-06-29   2016-08-01  2016-09-09    1  4500*1834*1707\n",
       "4  2021-06-30   2012-08-01  2012-08-28    1  4315*1783*1606"
      ]
     },
     "execution_count": 13,
     "metadata": {},
     "output_type": "execute_result"
    }
   ],
   "source": [
    "#查看非数值型数据\n",
    "data.select_dtypes(exclude=['int64','float64']).head()"
   ]
  },
  {
   "cell_type": "markdown",
   "metadata": {},
   "source": [
    "#有用的等下构建特征去做特征，该独热独热，没用的才删除"
   ]
  },
  {
   "cell_type": "code",
   "execution_count": 14,
   "metadata": {},
   "outputs": [],
   "source": [
    "#删除不要的字符变量\n",
    "data.drop(['licenseDate','AF12'],axis=1,inplace=True)"
   ]
  },
  {
   "cell_type": "code",
   "execution_count": 15,
   "metadata": {},
   "outputs": [
    {
     "name": "stdout",
     "output_type": "stream",
     "text": [
      "Index(['tradeTime', 'brand', 'serial', 'model', 'mileage', 'color', 'cityid',\n",
      "       'carCode', 'transferCount', 'seatings', 'registerDate', 'country',\n",
      "       'maketype', 'modelyear', 'displacement', 'gearbox', 'newprice', 'AF2',\n",
      "       'AF5', 'AF6', 'AF8', 'AF9', 'AF11', 'AF14', 'price'],\n",
      "      dtype='object')\n"
     ]
    }
   ],
   "source": [
    "#总结一下现在的变量，并给测试集也筛一下\n",
    "columns=data.columns\n",
    "print(columns)\n",
    "data2=data2[columns[:-1]]   #y值不要"
   ]
  },
  {
   "cell_type": "markdown",
   "metadata": {},
   "source": [
    "### 填充缺失值"
   ]
  },
  {
   "cell_type": "code",
   "execution_count": 16,
   "metadata": {},
   "outputs": [
    {
     "ename": "TypeError",
     "evalue": "Cannot convert [['2021-06-28' '2021-06-25' '2021-06-19' ... '2020-09-27' '2020-11-09'\n  '2020-12-07']\n ['2017-12-01' '2016-12-01' '2008-02-01' ... '2011-12-01' '2016-04-01'\n  '2018-03-01']\n ['1' '1+2' nan ... '1' '3+2' '1+2']] to numeric",
     "output_type": "error",
     "traceback": [
      "\u001b[0;31m---------------------------------------------------------------------------\u001b[0m",
      "\u001b[0;31mTypeError\u001b[0m                                 Traceback (most recent call last)",
      "Cell \u001b[0;32mIn[16], line 3\u001b[0m\n\u001b[1;32m      1\u001b[0m \u001b[38;5;66;03m#均值填充，中位数填充，众数填充\u001b[39;00m\n\u001b[1;32m      2\u001b[0m \u001b[38;5;66;03m#前填充，后填充\u001b[39;00m\n\u001b[0;32m----> 3\u001b[0m data\u001b[38;5;241m.\u001b[39mfillna(\u001b[43mdata\u001b[49m\u001b[38;5;241;43m.\u001b[39;49m\u001b[43mmedian\u001b[49m\u001b[43m(\u001b[49m\u001b[43m)\u001b[49m,inplace\u001b[38;5;241m=\u001b[39m\u001b[38;5;28;01mTrue\u001b[39;00m)   \u001b[38;5;66;03m#mode,mean\u001b[39;00m\n\u001b[1;32m      4\u001b[0m data\u001b[38;5;241m.\u001b[39mfillna(method\u001b[38;5;241m=\u001b[39m\u001b[38;5;124m'\u001b[39m\u001b[38;5;124mffill\u001b[39m\u001b[38;5;124m'\u001b[39m,inplace\u001b[38;5;241m=\u001b[39m\u001b[38;5;28;01mTrue\u001b[39;00m)   \u001b[38;5;66;03m#pad,bfill/backfill\u001b[39;00m\n\u001b[1;32m      6\u001b[0m data2\u001b[38;5;241m.\u001b[39mfillna(data2\u001b[38;5;241m.\u001b[39mmedian(),inplace\u001b[38;5;241m=\u001b[39m\u001b[38;5;28;01mTrue\u001b[39;00m)   \n",
      "File \u001b[0;32m~/Conda/miniconda3/envs/common/lib/python3.9/site-packages/pandas/core/frame.py:11693\u001b[0m, in \u001b[0;36mDataFrame.median\u001b[0;34m(self, axis, skipna, numeric_only, **kwargs)\u001b[0m\n\u001b[1;32m  11685\u001b[0m \u001b[38;5;129m@doc\u001b[39m(make_doc(\u001b[38;5;124m\"\u001b[39m\u001b[38;5;124mmedian\u001b[39m\u001b[38;5;124m\"\u001b[39m, ndim\u001b[38;5;241m=\u001b[39m\u001b[38;5;241m2\u001b[39m))\n\u001b[1;32m  11686\u001b[0m \u001b[38;5;28;01mdef\u001b[39;00m \u001b[38;5;21mmedian\u001b[39m(\n\u001b[1;32m  11687\u001b[0m     \u001b[38;5;28mself\u001b[39m,\n\u001b[0;32m   (...)\u001b[0m\n\u001b[1;32m  11691\u001b[0m     \u001b[38;5;241m*\u001b[39m\u001b[38;5;241m*\u001b[39mkwargs,\n\u001b[1;32m  11692\u001b[0m ):\n\u001b[0;32m> 11693\u001b[0m     result \u001b[38;5;241m=\u001b[39m \u001b[38;5;28;43msuper\u001b[39;49m\u001b[43m(\u001b[49m\u001b[43m)\u001b[49m\u001b[38;5;241;43m.\u001b[39;49m\u001b[43mmedian\u001b[49m\u001b[43m(\u001b[49m\u001b[43maxis\u001b[49m\u001b[43m,\u001b[49m\u001b[43m \u001b[49m\u001b[43mskipna\u001b[49m\u001b[43m,\u001b[49m\u001b[43m \u001b[49m\u001b[43mnumeric_only\u001b[49m\u001b[43m,\u001b[49m\u001b[43m \u001b[49m\u001b[38;5;241;43m*\u001b[39;49m\u001b[38;5;241;43m*\u001b[39;49m\u001b[43mkwargs\u001b[49m\u001b[43m)\u001b[49m\n\u001b[1;32m  11694\u001b[0m     \u001b[38;5;28;01mif\u001b[39;00m \u001b[38;5;28misinstance\u001b[39m(result, Series):\n\u001b[1;32m  11695\u001b[0m         result \u001b[38;5;241m=\u001b[39m result\u001b[38;5;241m.\u001b[39m__finalize__(\u001b[38;5;28mself\u001b[39m, method\u001b[38;5;241m=\u001b[39m\u001b[38;5;124m\"\u001b[39m\u001b[38;5;124mmedian\u001b[39m\u001b[38;5;124m\"\u001b[39m)\n",
      "File \u001b[0;32m~/Conda/miniconda3/envs/common/lib/python3.9/site-packages/pandas/core/generic.py:12428\u001b[0m, in \u001b[0;36mNDFrame.median\u001b[0;34m(self, axis, skipna, numeric_only, **kwargs)\u001b[0m\n\u001b[1;32m  12421\u001b[0m \u001b[38;5;28;01mdef\u001b[39;00m \u001b[38;5;21mmedian\u001b[39m(\n\u001b[1;32m  12422\u001b[0m     \u001b[38;5;28mself\u001b[39m,\n\u001b[1;32m  12423\u001b[0m     axis: Axis \u001b[38;5;241m|\u001b[39m \u001b[38;5;28;01mNone\u001b[39;00m \u001b[38;5;241m=\u001b[39m \u001b[38;5;241m0\u001b[39m,\n\u001b[0;32m   (...)\u001b[0m\n\u001b[1;32m  12426\u001b[0m     \u001b[38;5;241m*\u001b[39m\u001b[38;5;241m*\u001b[39mkwargs,\n\u001b[1;32m  12427\u001b[0m ) \u001b[38;5;241m-\u001b[39m\u001b[38;5;241m>\u001b[39m Series \u001b[38;5;241m|\u001b[39m \u001b[38;5;28mfloat\u001b[39m:\n\u001b[0;32m> 12428\u001b[0m     \u001b[38;5;28;01mreturn\u001b[39;00m \u001b[38;5;28;43mself\u001b[39;49m\u001b[38;5;241;43m.\u001b[39;49m\u001b[43m_stat_function\u001b[49m\u001b[43m(\u001b[49m\n\u001b[1;32m  12429\u001b[0m \u001b[43m        \u001b[49m\u001b[38;5;124;43m\"\u001b[39;49m\u001b[38;5;124;43mmedian\u001b[39;49m\u001b[38;5;124;43m\"\u001b[39;49m\u001b[43m,\u001b[49m\u001b[43m \u001b[49m\u001b[43mnanops\u001b[49m\u001b[38;5;241;43m.\u001b[39;49m\u001b[43mnanmedian\u001b[49m\u001b[43m,\u001b[49m\u001b[43m \u001b[49m\u001b[43maxis\u001b[49m\u001b[43m,\u001b[49m\u001b[43m \u001b[49m\u001b[43mskipna\u001b[49m\u001b[43m,\u001b[49m\u001b[43m \u001b[49m\u001b[43mnumeric_only\u001b[49m\u001b[43m,\u001b[49m\u001b[43m \u001b[49m\u001b[38;5;241;43m*\u001b[39;49m\u001b[38;5;241;43m*\u001b[39;49m\u001b[43mkwargs\u001b[49m\n\u001b[1;32m  12430\u001b[0m \u001b[43m    \u001b[49m\u001b[43m)\u001b[49m\n",
      "File \u001b[0;32m~/Conda/miniconda3/envs/common/lib/python3.9/site-packages/pandas/core/generic.py:12374\u001b[0m, in \u001b[0;36mNDFrame._stat_function\u001b[0;34m(self, name, func, axis, skipna, numeric_only, **kwargs)\u001b[0m\n\u001b[1;32m  12370\u001b[0m nv\u001b[38;5;241m.\u001b[39mvalidate_func(name, (), kwargs)\n\u001b[1;32m  12372\u001b[0m validate_bool_kwarg(skipna, \u001b[38;5;124m\"\u001b[39m\u001b[38;5;124mskipna\u001b[39m\u001b[38;5;124m\"\u001b[39m, none_allowed\u001b[38;5;241m=\u001b[39m\u001b[38;5;28;01mFalse\u001b[39;00m)\n\u001b[0;32m> 12374\u001b[0m \u001b[38;5;28;01mreturn\u001b[39;00m \u001b[38;5;28;43mself\u001b[39;49m\u001b[38;5;241;43m.\u001b[39;49m\u001b[43m_reduce\u001b[49m\u001b[43m(\u001b[49m\n\u001b[1;32m  12375\u001b[0m \u001b[43m    \u001b[49m\u001b[43mfunc\u001b[49m\u001b[43m,\u001b[49m\u001b[43m \u001b[49m\u001b[43mname\u001b[49m\u001b[38;5;241;43m=\u001b[39;49m\u001b[43mname\u001b[49m\u001b[43m,\u001b[49m\u001b[43m \u001b[49m\u001b[43maxis\u001b[49m\u001b[38;5;241;43m=\u001b[39;49m\u001b[43maxis\u001b[49m\u001b[43m,\u001b[49m\u001b[43m \u001b[49m\u001b[43mskipna\u001b[49m\u001b[38;5;241;43m=\u001b[39;49m\u001b[43mskipna\u001b[49m\u001b[43m,\u001b[49m\u001b[43m \u001b[49m\u001b[43mnumeric_only\u001b[49m\u001b[38;5;241;43m=\u001b[39;49m\u001b[43mnumeric_only\u001b[49m\n\u001b[1;32m  12376\u001b[0m \u001b[43m\u001b[49m\u001b[43m)\u001b[49m\n",
      "File \u001b[0;32m~/Conda/miniconda3/envs/common/lib/python3.9/site-packages/pandas/core/frame.py:11549\u001b[0m, in \u001b[0;36mDataFrame._reduce\u001b[0;34m(self, op, name, axis, skipna, numeric_only, filter_type, **kwds)\u001b[0m\n\u001b[1;32m  11545\u001b[0m     df \u001b[38;5;241m=\u001b[39m df\u001b[38;5;241m.\u001b[39mT\n\u001b[1;32m  11547\u001b[0m \u001b[38;5;66;03m# After possibly _get_data and transposing, we are now in the\u001b[39;00m\n\u001b[1;32m  11548\u001b[0m \u001b[38;5;66;03m#  simple case where we can use BlockManager.reduce\u001b[39;00m\n\u001b[0;32m> 11549\u001b[0m res \u001b[38;5;241m=\u001b[39m \u001b[43mdf\u001b[49m\u001b[38;5;241;43m.\u001b[39;49m\u001b[43m_mgr\u001b[49m\u001b[38;5;241;43m.\u001b[39;49m\u001b[43mreduce\u001b[49m\u001b[43m(\u001b[49m\u001b[43mblk_func\u001b[49m\u001b[43m)\u001b[49m\n\u001b[1;32m  11550\u001b[0m out \u001b[38;5;241m=\u001b[39m df\u001b[38;5;241m.\u001b[39m_constructor_from_mgr(res, axes\u001b[38;5;241m=\u001b[39mres\u001b[38;5;241m.\u001b[39maxes)\u001b[38;5;241m.\u001b[39miloc[\u001b[38;5;241m0\u001b[39m]\n\u001b[1;32m  11551\u001b[0m \u001b[38;5;28;01mif\u001b[39;00m out_dtype \u001b[38;5;129;01mis\u001b[39;00m \u001b[38;5;129;01mnot\u001b[39;00m \u001b[38;5;28;01mNone\u001b[39;00m \u001b[38;5;129;01mand\u001b[39;00m out\u001b[38;5;241m.\u001b[39mdtype \u001b[38;5;241m!=\u001b[39m \u001b[38;5;124m\"\u001b[39m\u001b[38;5;124mboolean\u001b[39m\u001b[38;5;124m\"\u001b[39m:\n",
      "File \u001b[0;32m~/Conda/miniconda3/envs/common/lib/python3.9/site-packages/pandas/core/internals/managers.py:1500\u001b[0m, in \u001b[0;36mBlockManager.reduce\u001b[0;34m(self, func)\u001b[0m\n\u001b[1;32m   1498\u001b[0m res_blocks: \u001b[38;5;28mlist\u001b[39m[Block] \u001b[38;5;241m=\u001b[39m []\n\u001b[1;32m   1499\u001b[0m \u001b[38;5;28;01mfor\u001b[39;00m blk \u001b[38;5;129;01min\u001b[39;00m \u001b[38;5;28mself\u001b[39m\u001b[38;5;241m.\u001b[39mblocks:\n\u001b[0;32m-> 1500\u001b[0m     nbs \u001b[38;5;241m=\u001b[39m \u001b[43mblk\u001b[49m\u001b[38;5;241;43m.\u001b[39;49m\u001b[43mreduce\u001b[49m\u001b[43m(\u001b[49m\u001b[43mfunc\u001b[49m\u001b[43m)\u001b[49m\n\u001b[1;32m   1501\u001b[0m     res_blocks\u001b[38;5;241m.\u001b[39mextend(nbs)\n\u001b[1;32m   1503\u001b[0m index \u001b[38;5;241m=\u001b[39m Index([\u001b[38;5;28;01mNone\u001b[39;00m])  \u001b[38;5;66;03m# placeholder\u001b[39;00m\n",
      "File \u001b[0;32m~/Conda/miniconda3/envs/common/lib/python3.9/site-packages/pandas/core/internals/blocks.py:404\u001b[0m, in \u001b[0;36mBlock.reduce\u001b[0;34m(self, func)\u001b[0m\n\u001b[1;32m    398\u001b[0m \u001b[38;5;129m@final\u001b[39m\n\u001b[1;32m    399\u001b[0m \u001b[38;5;28;01mdef\u001b[39;00m \u001b[38;5;21mreduce\u001b[39m(\u001b[38;5;28mself\u001b[39m, func) \u001b[38;5;241m-\u001b[39m\u001b[38;5;241m>\u001b[39m \u001b[38;5;28mlist\u001b[39m[Block]:\n\u001b[1;32m    400\u001b[0m     \u001b[38;5;66;03m# We will apply the function and reshape the result into a single-row\u001b[39;00m\n\u001b[1;32m    401\u001b[0m     \u001b[38;5;66;03m#  Block with the same mgr_locs; squeezing will be done at a higher level\u001b[39;00m\n\u001b[1;32m    402\u001b[0m     \u001b[38;5;28;01massert\u001b[39;00m \u001b[38;5;28mself\u001b[39m\u001b[38;5;241m.\u001b[39mndim \u001b[38;5;241m==\u001b[39m \u001b[38;5;241m2\u001b[39m\n\u001b[0;32m--> 404\u001b[0m     result \u001b[38;5;241m=\u001b[39m \u001b[43mfunc\u001b[49m\u001b[43m(\u001b[49m\u001b[38;5;28;43mself\u001b[39;49m\u001b[38;5;241;43m.\u001b[39;49m\u001b[43mvalues\u001b[49m\u001b[43m)\u001b[49m\n\u001b[1;32m    406\u001b[0m     \u001b[38;5;28;01mif\u001b[39;00m \u001b[38;5;28mself\u001b[39m\u001b[38;5;241m.\u001b[39mvalues\u001b[38;5;241m.\u001b[39mndim \u001b[38;5;241m==\u001b[39m \u001b[38;5;241m1\u001b[39m:\n\u001b[1;32m    407\u001b[0m         res_values \u001b[38;5;241m=\u001b[39m result\n",
      "File \u001b[0;32m~/Conda/miniconda3/envs/common/lib/python3.9/site-packages/pandas/core/frame.py:11468\u001b[0m, in \u001b[0;36mDataFrame._reduce.<locals>.blk_func\u001b[0;34m(values, axis)\u001b[0m\n\u001b[1;32m  11466\u001b[0m         \u001b[38;5;28;01mreturn\u001b[39;00m np\u001b[38;5;241m.\u001b[39marray([result])\n\u001b[1;32m  11467\u001b[0m \u001b[38;5;28;01melse\u001b[39;00m:\n\u001b[0;32m> 11468\u001b[0m     \u001b[38;5;28;01mreturn\u001b[39;00m \u001b[43mop\u001b[49m\u001b[43m(\u001b[49m\u001b[43mvalues\u001b[49m\u001b[43m,\u001b[49m\u001b[43m \u001b[49m\u001b[43maxis\u001b[49m\u001b[38;5;241;43m=\u001b[39;49m\u001b[43maxis\u001b[49m\u001b[43m,\u001b[49m\u001b[43m \u001b[49m\u001b[43mskipna\u001b[49m\u001b[38;5;241;43m=\u001b[39;49m\u001b[43mskipna\u001b[49m\u001b[43m,\u001b[49m\u001b[43m \u001b[49m\u001b[38;5;241;43m*\u001b[39;49m\u001b[38;5;241;43m*\u001b[39;49m\u001b[43mkwds\u001b[49m\u001b[43m)\u001b[49m\n",
      "File \u001b[0;32m~/Conda/miniconda3/envs/common/lib/python3.9/site-packages/pandas/core/nanops.py:147\u001b[0m, in \u001b[0;36mbottleneck_switch.__call__.<locals>.f\u001b[0;34m(values, axis, skipna, **kwds)\u001b[0m\n\u001b[1;32m    145\u001b[0m         result \u001b[38;5;241m=\u001b[39m alt(values, axis\u001b[38;5;241m=\u001b[39maxis, skipna\u001b[38;5;241m=\u001b[39mskipna, \u001b[38;5;241m*\u001b[39m\u001b[38;5;241m*\u001b[39mkwds)\n\u001b[1;32m    146\u001b[0m \u001b[38;5;28;01melse\u001b[39;00m:\n\u001b[0;32m--> 147\u001b[0m     result \u001b[38;5;241m=\u001b[39m \u001b[43malt\u001b[49m\u001b[43m(\u001b[49m\u001b[43mvalues\u001b[49m\u001b[43m,\u001b[49m\u001b[43m \u001b[49m\u001b[43maxis\u001b[49m\u001b[38;5;241;43m=\u001b[39;49m\u001b[43maxis\u001b[49m\u001b[43m,\u001b[49m\u001b[43m \u001b[49m\u001b[43mskipna\u001b[49m\u001b[38;5;241;43m=\u001b[39;49m\u001b[43mskipna\u001b[49m\u001b[43m,\u001b[49m\u001b[43m \u001b[49m\u001b[38;5;241;43m*\u001b[39;49m\u001b[38;5;241;43m*\u001b[39;49m\u001b[43mkwds\u001b[49m\u001b[43m)\u001b[49m\n\u001b[1;32m    149\u001b[0m \u001b[38;5;28;01mreturn\u001b[39;00m result\n",
      "File \u001b[0;32m~/Conda/miniconda3/envs/common/lib/python3.9/site-packages/pandas/core/nanops.py:787\u001b[0m, in \u001b[0;36mnanmedian\u001b[0;34m(values, axis, skipna, mask)\u001b[0m\n\u001b[1;32m    785\u001b[0m     inferred \u001b[38;5;241m=\u001b[39m lib\u001b[38;5;241m.\u001b[39minfer_dtype(values)\n\u001b[1;32m    786\u001b[0m     \u001b[38;5;28;01mif\u001b[39;00m inferred \u001b[38;5;129;01min\u001b[39;00m [\u001b[38;5;124m\"\u001b[39m\u001b[38;5;124mstring\u001b[39m\u001b[38;5;124m\"\u001b[39m, \u001b[38;5;124m\"\u001b[39m\u001b[38;5;124mmixed\u001b[39m\u001b[38;5;124m\"\u001b[39m]:\n\u001b[0;32m--> 787\u001b[0m         \u001b[38;5;28;01mraise\u001b[39;00m \u001b[38;5;167;01mTypeError\u001b[39;00m(\u001b[38;5;124mf\u001b[39m\u001b[38;5;124m\"\u001b[39m\u001b[38;5;124mCannot convert \u001b[39m\u001b[38;5;132;01m{\u001b[39;00mvalues\u001b[38;5;132;01m}\u001b[39;00m\u001b[38;5;124m to numeric\u001b[39m\u001b[38;5;124m\"\u001b[39m)\n\u001b[1;32m    788\u001b[0m \u001b[38;5;28;01mtry\u001b[39;00m:\n\u001b[1;32m    789\u001b[0m     values \u001b[38;5;241m=\u001b[39m values\u001b[38;5;241m.\u001b[39mastype(\u001b[38;5;124m\"\u001b[39m\u001b[38;5;124mf8\u001b[39m\u001b[38;5;124m\"\u001b[39m)\n",
      "\u001b[0;31mTypeError\u001b[0m: Cannot convert [['2021-06-28' '2021-06-25' '2021-06-19' ... '2020-09-27' '2020-11-09'\n  '2020-12-07']\n ['2017-12-01' '2016-12-01' '2008-02-01' ... '2011-12-01' '2016-04-01'\n  '2018-03-01']\n ['1' '1+2' nan ... '1' '3+2' '1+2']] to numeric"
     ]
    }
   ],
   "source": [
    "#均值填充，中位数填充，众数填充\n",
    "#前填充，后填充\n",
    "data.fillna(data.median(),inplace=True)   #mode,mean\n",
    "data.fillna(method='ffill',inplace=True)   #pad,bfill/backfill\n",
    "\n",
    "data2.fillna(data2.median(),inplace=True)   \n",
    "data2.fillna(method='ffill',inplace=True)"
   ]
  },
  {
   "cell_type": "markdown",
   "metadata": {},
   "source": [
    "## 特征工程"
   ]
  },
  {
   "cell_type": "code",
   "execution_count": null,
   "metadata": {},
   "outputs": [],
   "source": [
    "#首先对训练集取出y\n",
    "y=data['price']\n",
    "data.drop(['price'],axis=1,inplace=True)"
   ]
  },
  {
   "cell_type": "code",
   "execution_count": null,
   "metadata": {},
   "outputs": [],
   "source": [
    "#对前面的要处理的变量单独处理，\n",
    "#时间类型变量的处理，得出二手车年龄，天数\n",
    "data['age']=(pd.to_datetime(data['tradeTime'])-pd.to_datetime(data['registerDate'])).map(lambda x:x.days)\n",
    "#测试集也一样变化\n",
    "data2['age']=(pd.to_datetime(data2['tradeTime'])-pd.to_datetime(data2['registerDate'])).map(lambda x:x.days)"
   ]
  },
  {
   "cell_type": "code",
   "execution_count": null,
   "metadata": {},
   "outputs": [],
   "source": [
    "#然后删除原来的不需要的特征变量\n",
    "data.drop(['tradeTime','registerDate'],axis=1,inplace=True)\n",
    "data2.drop(['tradeTime','registerDate'],axis=1,inplace=True)"
   ]
  },
  {
   "cell_type": "code",
   "execution_count": null,
   "metadata": {},
   "outputs": [],
   "source": [
    "#可以映射\n",
    "# d1={'male':0,'female':1}\n",
    "# d2={'S':1,'C':2,'Q':3}\n",
    "\n",
    "# data['Sex']=data['Sex'].map(d1)\n",
    "# data['Embarked']=data['Embarked'].map(d2)\n",
    "# data2['Sex']=data2['Sex'].map(d1)\n",
    "# data2['Embarked']=data2['Embarked'].map(d2)"
   ]
  },
  {
   "cell_type": "code",
   "execution_count": null,
   "metadata": {},
   "outputs": [],
   "source": [
    "#剩下的变量独热处理\n",
    "data=pd.get_dummies(data)\n",
    "data2=pd.get_dummies(data2)"
   ]
  },
  {
   "cell_type": "code",
   "execution_count": null,
   "metadata": {},
   "outputs": [],
   "source": [
    "#独热多出来的特征处理\n",
    "for col in data.columns:\n",
    "    if col not in data2.columns:\n",
    "        data2[col]=0"
   ]
  },
  {
   "cell_type": "code",
   "execution_count": null,
   "metadata": {},
   "outputs": [],
   "source": [
    "print(data.shape,data2.shape,y.shape)"
   ]
  },
  {
   "cell_type": "code",
   "execution_count": null,
   "metadata": {
    "scrolled": true
   },
   "outputs": [],
   "source": [
    "#查看处理完的数据信息\n",
    "data.info(),data2.info()"
   ]
  },
  {
   "cell_type": "markdown",
   "metadata": {},
   "source": [
    "### 数据画图探索"
   ]
  },
  {
   "cell_type": "code",
   "execution_count": null,
   "metadata": {},
   "outputs": [],
   "source": [
    "#查看特征变量的箱线图分布\n",
    "columns = data.columns.tolist() # 列表头\n",
    "dis_cols = 7                   #一行几个\n",
    "dis_rows = len(columns)\n",
    "plt.figure(figsize=(4 * dis_cols, 4 * dis_rows))\n",
    "\n",
    "for i in range(len(columns)):\n",
    "    plt.subplot(dis_rows,dis_cols,i+1)\n",
    "    sns.boxplot(data=data[columns[i]], orient=\"v\",width=0.5)\n",
    "    plt.xlabel(columns[i],fontsize = 20)\n",
    "plt.tight_layout()\n",
    "#plt.savefig('特征变量箱线图',formate='png',dpi=500)\n",
    "plt.show()"
   ]
  },
  {
   "cell_type": "code",
   "execution_count": null,
   "metadata": {},
   "outputs": [],
   "source": [
    "#画密度图，训练集和测试集对比\n",
    "dis_cols = 5                   #一行几个\n",
    "dis_rows = len(columns)\n",
    "plt.figure(figsize=(4 * dis_cols, 4 * dis_rows))\n",
    "\n",
    "for i in range(len(columns)):\n",
    "    ax = plt.subplot(dis_rows, dis_cols, i+1)\n",
    "    ax = sns.kdeplot(data[columns[i]], color=\"Red\" ,shade=True)\n",
    "    ax = sns.kdeplot(data2[columns[i]], color=\"Blue\",warn_singular=False,shade=True)\n",
    "    ax.set_xlabel(columns[i],fontsize = 20)\n",
    "    ax.set_ylabel(\"Frequency\",fontsize = 18)\n",
    "    ax = ax.legend([\"train\", \"test\"])\n",
    "plt.tight_layout()\n",
    "#plt.savefig('训练测试特征变量核密度图',formate='png',dpi=500)\n",
    "plt.show()"
   ]
  },
  {
   "cell_type": "code",
   "execution_count": null,
   "metadata": {},
   "outputs": [],
   "source": [
    "#选出分布不一样的特征,删除\n",
    "drop_col=['country','AF11_1,3+2','AF11_5']\n",
    "data.drop(drop_col,axis=1,inplace=True)\n",
    "data2.drop(drop_col,axis=1,inplace=True)"
   ]
  },
  {
   "cell_type": "code",
   "execution_count": null,
   "metadata": {},
   "outputs": [],
   "source": [
    "# 查看y的分布\n",
    "#回归问题\n",
    "plt.figure(figsize=(6,2),dpi=128)\n",
    "plt.subplot(1,3,1)\n",
    "y.plot.box(title='响应变量箱线图')\n",
    "plt.subplot(1,3,2)\n",
    "y.plot.hist(title='响应变量直方图')\n",
    "plt.subplot(1,3,3)\n",
    "y.plot.kde(title='响应变量核密度图')\n",
    "#sns.kdeplot(y, color='Red', shade=True)\n",
    "#plt.savefig('响应变量.png')\n",
    "plt.tight_layout()\n",
    "plt.show()\n",
    "\n",
    "# 分类问题\n",
    "# plt.figure(figsize=(6,2),dpi=128)\n",
    "# plt.subplot(1,3,1)\n",
    "# y.value_counts().plot.bar(title='响应变量柱状图图')\n",
    "# plt.subplot(1,3,2)\n",
    "# y.value_counts().plot.pie(title='响应变量饼图')\n",
    "# plt.subplot(1,3,3)\n",
    "# y.plot.kde(title='响应变量核密度图')\n",
    "# plt.savefig('响应变量.png')\n",
    "plt.tight_layout()\n",
    "# plt.show()"
   ]
  },
  {
   "cell_type": "markdown",
   "metadata": {},
   "source": [
    "#上图的y存在着极端值，要筛掉"
   ]
  },
  {
   "cell_type": "markdown",
   "metadata": {},
   "source": [
    "### 异常值处理"
   ]
  },
  {
   "cell_type": "code",
   "execution_count": null,
   "metadata": {},
   "outputs": [],
   "source": [
    "#处理y的异常值\n",
    "y=y[y <= 200]\n",
    "plt.figure(figsize=(6,2),dpi=128)\n",
    "plt.subplot(1,3,1)\n",
    "y.plot.box(title='响应变量箱线图')\n",
    "plt.subplot(1,3,2)\n",
    "y.plot.hist(title='响应变量直方图')\n",
    "plt.subplot(1,3,3)\n",
    "y.plot.kde(title='响应变量核密度图')\n",
    "#sns.kdeplot(y, color='Red', shade=True)\n",
    "#plt.savefig('响应变量.png')\n",
    "plt.tight_layout()\n",
    "plt.show()"
   ]
  },
  {
   "cell_type": "code",
   "execution_count": null,
   "metadata": {},
   "outputs": [],
   "source": [
    "#筛选给x\n",
    "data=data.iloc[y.index,:]\n",
    "data.shape"
   ]
  },
  {
   "cell_type": "code",
   "execution_count": null,
   "metadata": {},
   "outputs": [],
   "source": [
    "#X异常值处理，先标准化\n",
    "from sklearn.preprocessing import StandardScaler\n",
    "scaler = StandardScaler()\n",
    "X_s = scaler.fit_transform(data)\n",
    "X2_s = scaler.fit_transform(data2)"
   ]
  },
  {
   "cell_type": "code",
   "execution_count": null,
   "metadata": {},
   "outputs": [],
   "source": [
    "plt.figure(figsize=(20,8))\n",
    "plt.boxplot(x=X_s,labels=data.columns)\n",
    "#plt.hlines([-10,10],0,len(columns))\n",
    "plt.show()"
   ]
  },
  {
   "cell_type": "code",
   "execution_count": null,
   "metadata": {},
   "outputs": [],
   "source": [
    "plt.figure(figsize=(20,8))\n",
    "plt.boxplot(x=X2_s,labels=data2.columns)\n",
    "#plt.hlines([-10,10],0,len(columns))\n",
    "plt.show()"
   ]
  },
  {
   "cell_type": "code",
   "execution_count": null,
   "metadata": {},
   "outputs": [],
   "source": [
    "#异常值多的列进行处理\n",
    "def deal_outline(data,col,n):   #数据，要处理的列名，几倍的方差\n",
    "    for c in col:\n",
    "        mean=data[c].mean()\n",
    "        std=data[c].std()\n",
    "        return data[(data[c]>mean-n*std)&(data[c]<mean+n*std)]"
   ]
  },
  {
   "cell_type": "code",
   "execution_count": null,
   "metadata": {},
   "outputs": [],
   "source": [
    "data=deal_outline(data,['newprice'],10)\n",
    "y=y[data.index]\n",
    "data.shape,y.shape"
   ]
  },
  {
   "cell_type": "markdown",
   "metadata": {},
   "source": [
    "### 查看相关系数矩阵"
   ]
  },
  {
   "cell_type": "code",
   "execution_count": null,
   "metadata": {},
   "outputs": [],
   "source": [
    "corr = plt.subplots(figsize = (18,16),dpi=128)\n",
    "corr= sns.heatmap(data.assign(Y=y).corr(method='spearman'),annot=True,square=True)"
   ]
  },
  {
   "cell_type": "code",
   "execution_count": null,
   "metadata": {},
   "outputs": [],
   "source": [
    "corr = plt.subplots(figsize = (18,16),dpi=128)\n",
    "corr= sns.heatmap(data2.corr(method='spearman'),annot=True,square=True)"
   ]
  },
  {
   "cell_type": "markdown",
   "metadata": {},
   "source": [
    "## 开始机器学习！"
   ]
  },
  {
   "cell_type": "code",
   "execution_count": null,
   "metadata": {},
   "outputs": [],
   "source": [
    "#划分训练集和验证集\n",
    "from sklearn.model_selection import train_test_split\n",
    "X_train,X_val,y_train,y_val=train_test_split(data,y,test_size=0.2,random_state=0)"
   ]
  },
  {
   "cell_type": "code",
   "execution_count": null,
   "metadata": {},
   "outputs": [],
   "source": [
    "#数据标准化\n",
    "from sklearn.preprocessing import StandardScaler\n",
    "scaler = StandardScaler()\n",
    "scaler.fit(X_train)\n",
    "X_train_s = scaler.transform(X_train)\n",
    "X_val_s = scaler.transform(X_val)\n",
    "X2_s=scaler.transform(data2)\n",
    "print('训练数据形状：')\n",
    "print(X_train_s.shape,y_train.shape)\n",
    "print('验证测试数据形状：')\n",
    "(X_val_s.shape,y_val.shape,X2_s.shape)"
   ]
  },
  {
   "cell_type": "code",
   "execution_count": null,
   "metadata": {},
   "outputs": [],
   "source": [
    "#采用十种模型，对比验证集精度\n",
    "from sklearn.linear_model import LinearRegression\n",
    "from sklearn.linear_model import ElasticNet\n",
    "from sklearn.neighbors import KNeighborsRegressor\n",
    "from sklearn.tree import DecisionTreeRegressor\n",
    "from sklearn.ensemble import RandomForestRegressor\n",
    "from sklearn.ensemble import GradientBoostingRegressor\n",
    "from xgboost.sklearn import XGBRegressor\n",
    "from lightgbm import LGBMRegressor\n",
    "from sklearn.svm import SVR\n",
    "from sklearn.neural_network import MLPRegressor"
   ]
  },
  {
   "cell_type": "code",
   "execution_count": null,
   "metadata": {},
   "outputs": [],
   "source": [
    "#线性回归\n",
    "model1 = LinearRegression()\n",
    "\n",
    "#弹性网回归\n",
    "model2 = ElasticNet(alpha=0.05, l1_ratio=0.5)\n",
    "\n",
    "#K近邻\n",
    "model3 = KNeighborsRegressor(n_neighbors=10)\n",
    "\n",
    "#决策树\n",
    "model4 = DecisionTreeRegressor(random_state=77)\n",
    "\n",
    "#随机森林\n",
    "model5= RandomForestRegressor(n_estimators=500,  max_features=int(X_train.shape[1]/3) , random_state=0)\n",
    "\n",
    "#梯度提升\n",
    "model6 = GradientBoostingRegressor(n_estimators=500,random_state=123)\n",
    "\n",
    "#极端梯度提升\n",
    "model7 =  XGBRegressor(objective='reg:squarederror', n_estimators=1000, random_state=0)\n",
    "\n",
    "#轻量梯度提升\n",
    "model8 = LGBMRegressor(n_estimators=1000,objective='regression', # 默认是二分类\n",
    "                      random_state=0)\n",
    "\n",
    "#支持向量机\n",
    "model9 = SVR(kernel=\"rbf\")\n",
    "\n",
    "#神经网络\n",
    "model10 = MLPRegressor(hidden_layer_sizes=(16,8), random_state=77, max_iter=10000)\n",
    "\n",
    "model_list=[model1,model2,model3,model4,model5,model6,model7,model8,model9,model10]\n",
    "model_name=['线性回归','惩罚回归','K近邻','决策树','随机森林','梯度提升','极端梯度提升','轻量梯度提升','支持向量机','神经网络']"
   ]
  },
  {
   "cell_type": "code",
   "execution_count": null,
   "metadata": {},
   "outputs": [],
   "source": [
    "for i in range(10):\n",
    "    model_C=model_list[i]\n",
    "    name=model_name[i]\n",
    "    model_C.fit(X_train_s, y_train)\n",
    "    s=model_C.score(X_val_s, y_val)\n",
    "    print(name+'方法在验证集的准确率为：'+str(s))"
   ]
  },
  {
   "cell_type": "markdown",
   "metadata": {},
   "source": [
    "#一般集成方法都最好，后面交叉验证、网格搜参都只选三个模型，随机森林，极端梯度提升，轻量梯度提升"
   ]
  },
  {
   "cell_type": "markdown",
   "metadata": {},
   "source": [
    "### 交叉验证"
   ]
  },
  {
   "cell_type": "code",
   "execution_count": null,
   "metadata": {},
   "outputs": [],
   "source": [
    "#回归问题交叉验证，使用拟合优度，mae,rmse,mape 作为评价标准\n",
    "from sklearn.metrics import mean_absolute_error\n",
    "from sklearn.metrics import mean_squared_error\n",
    "from sklearn.model_selection import KFold\n",
    "\n",
    "def evaluation(y_test, y_predict):\n",
    "    mae = mean_absolute_error(y_test, y_predict)\n",
    "    mse = mean_squared_error(y_test, y_predict)\n",
    "    rmse = np.sqrt(mean_squared_error(y_test, y_predict))\n",
    "    mape=(abs(y_predict -y_test)/ y_test).mean()\n",
    "    return mae, rmse, mape\n",
    "def evaluation2(lis):\n",
    "    array=np.array(lis)\n",
    "    return array.mean() , array.std()"
   ]
  },
  {
   "cell_type": "code",
   "execution_count": null,
   "metadata": {},
   "outputs": [],
   "source": [
    "def cross_val(model=None,X=None,Y=None,K=5,repeated=1):\n",
    "    df_mean=pd.DataFrame(columns=['R2','MAE','RMSE','MAPE']) \n",
    "    df_std=pd.DataFrame(columns=['R2','MAE','RMSE','MAPE'])\n",
    "    for n in range(repeated):\n",
    "        print(f'正在进行第{n+1}次重复K折.....随机数种子为{n}\\n')\n",
    "        kf = KFold(n_splits=K, shuffle=True, random_state=n)\n",
    "        R2=[]\n",
    "        MAE=[]\n",
    "        RMSE=[]\n",
    "        MAPE=[]\n",
    "        print(f\"    开始本次在{K}折数据上的交叉验证.......\\n\")\n",
    "        i=1\n",
    "        for train_index, test_index in kf.split(X):\n",
    "            print(f'        正在进行第{i}折的计算')\n",
    "            X_train=X.values[train_index]\n",
    "            y_train=y.values[train_index]\n",
    "            X_test=X.values[test_index]\n",
    "            y_test=y.values[test_index]\n",
    "            model.fit(X_train,y_train)\n",
    "            score=model.score(X_test,y_test)\n",
    "            R2.append(score)\n",
    "            pred=model.predict(X_test)\n",
    "            mae, rmse, mape=evaluation(y_test, pred)\n",
    "            MAE.append(mae)\n",
    "            RMSE.append(rmse)\n",
    "            MAPE.append(mape)\n",
    "            print(f'        第{i}折的拟合优度为：{round(score,4)}，MAE为{round(mae,4)}，RMSE为{round(rmse,4)}，MAPE为{round(mape,4)}')\n",
    "            i+=1\n",
    "        print(f'    ———————————————完成本次的{K}折交叉验证———————————————————\\n')\n",
    "        R2_mean,R2_std=evaluation2(R2)\n",
    "        MAE_mean,MAE_std=evaluation2(MAE)\n",
    "        RMSE_mean,RMSE_std=evaluation2(RMSE)\n",
    "        MAPE_mean,MAPE_std=evaluation2(MAPE)\n",
    "        print(f'第{n+1}次重复K折，本次{K}折交叉验证的总体拟合优度均值为{R2_mean}，方差为{R2_std}')\n",
    "        print(f'                               总体MAE均值为{MAE_mean}，方差为{MAE_std}')\n",
    "        print(f'                               总体RMSE均值为{RMSE_mean}，方差为{RMSE_std}')\n",
    "        print(f'                               总体MAPE均值为{MAPE_mean}，方差为{MAPE_std}')\n",
    "        print(\"\\n====================================================================================================================\\n\")\n",
    "        df1=pd.DataFrame(dict(zip(['R2','MAE','RMSE','MAPE'],[R2_mean,MAE_mean,RMSE_mean,MAPE_mean])),index=[n])\n",
    "        df_mean=pd.concat([df_mean,df1])\n",
    "        df2=pd.DataFrame(dict(zip(['R2','MAE','RMSE','MAPE'],[R2_std,MAE_std,RMSE_std,MAPE_std])),index=[n])\n",
    "        df_std=pd.concat([df_std,df2])\n",
    "    return df_mean,df_std"
   ]
  },
  {
   "cell_type": "code",
   "execution_count": null,
   "metadata": {
    "scrolled": true
   },
   "outputs": [],
   "source": [
    "model = LGBMRegressor(n_estimators=1000,objective='regression',random_state=0)\n",
    "lgb_crosseval,lgb_crosseval2=cross_val(model=model,X=data,Y=y,K=3,repeated=5)"
   ]
  },
  {
   "cell_type": "code",
   "execution_count": null,
   "metadata": {},
   "outputs": [],
   "source": [
    "lgb_crosseval"
   ]
  },
  {
   "cell_type": "code",
   "execution_count": null,
   "metadata": {
    "scrolled": true
   },
   "outputs": [],
   "source": [
    "model = XGBRegressor(n_estimators=1000,objective='reg:squarederror',random_state=0)\n",
    "xgb_crosseval,xgb_crosseval2=cross_val(model=model,X=data,Y=y,K=3,repeated=5)"
   ]
  },
  {
   "cell_type": "code",
   "execution_count": null,
   "metadata": {},
   "outputs": [],
   "source": [
    "xgb_crosseval"
   ]
  },
  {
   "cell_type": "code",
   "execution_count": null,
   "metadata": {
    "scrolled": true
   },
   "outputs": [],
   "source": [
    "model = RandomForestRegressor(n_estimators=500,  max_features=int(X_train.shape[1]/3) , random_state=0)\n",
    "rf_crosseval,rf_crosseval2=cross_val(model=model,X=data,Y=y,K=3,repeated=5)"
   ]
  },
  {
   "cell_type": "code",
   "execution_count": null,
   "metadata": {
    "scrolled": true
   },
   "outputs": [],
   "source": [
    "rf_crosseval"
   ]
  },
  {
   "cell_type": "code",
   "execution_count": null,
   "metadata": {},
   "outputs": [],
   "source": [
    "plt.subplots(1,4,figsize=(16,3))\n",
    "for i,col in enumerate(lgb_crosseval.columns):\n",
    "    n=int(str('14')+str(i+1))\n",
    "    plt.subplot(n)\n",
    "    plt.plot(lgb_crosseval[col], 'k', label='LGB')\n",
    "    plt.plot(xgb_crosseval[col], 'b-.', label='XGB')\n",
    "    plt.plot(rf_crosseval[col], 'r-^', label='RF')\n",
    "    plt.title(f'不同模型的{col}对比')\n",
    "    plt.xlabel('重复交叉验证次数')\n",
    "    plt.ylabel(col,fontsize=16)\n",
    "    plt.legend()\n",
    "plt.tight_layout()\n",
    "plt.show()"
   ]
  },
  {
   "cell_type": "code",
   "execution_count": null,
   "metadata": {},
   "outputs": [],
   "source": [
    "plt.subplots(1,4,figsize=(16,3))\n",
    "for i,col in enumerate(lgb_crosseval2.columns):\n",
    "    n=int(str('14')+str(i+1))\n",
    "    plt.subplot(n)\n",
    "    plt.plot(lgb_crosseval2[col], 'k', label='LGB')\n",
    "    plt.plot(xgb_crosseval2[col], 'b-.', label='XGB')\n",
    "    plt.plot(rf_crosseval2[col], 'r-^', label='RF')\n",
    "    plt.title(f'不同模型的{col}方差对比')\n",
    "    plt.xlabel('重复交叉验证次数')\n",
    "    plt.ylabel(col,fontsize=16)\n",
    "    plt.legend()\n",
    "plt.tight_layout()\n",
    "plt.show()"
   ]
  },
  {
   "cell_type": "markdown",
   "metadata": {},
   "source": [
    "LGB的效果最好，选它进行搜参"
   ]
  },
  {
   "cell_type": "markdown",
   "metadata": {},
   "source": [
    "### 搜超参数"
   ]
  },
  {
   "cell_type": "code",
   "execution_count": null,
   "metadata": {},
   "outputs": [],
   "source": [
    "#利用K折交叉验证搜索最优超参数\n",
    "from sklearn.model_selection import KFold, StratifiedKFold\n",
    "from sklearn.model_selection import GridSearchCV,RandomizedSearchCV"
   ]
  },
  {
   "cell_type": "code",
   "execution_count": null,
   "metadata": {},
   "outputs": [],
   "source": [
    "# Choose best hyperparameters by RandomizedSearchCV\n",
    "#随机搜索决策树的参数\n",
    "param_distributions = {'max_depth': range(4, 10), 'subsample':np.linspace(0.5,1,5 ),'num_leaves': [15, 31, 63, 127],\n",
    "                       'colsample_bytree': [0.6, 0.7, 0.8, 1.0]}\n",
    "                        # 'min_child_weight':np.linspace(0,0.1,2 ),\n",
    "kfold = KFold(n_splits=3, shuffle=True, random_state=1)\n",
    "model =RandomizedSearchCV(estimator= LGBMRegressor(objective='regression',random_state=0),\n",
    "                          param_distributions=param_distributions, n_iter=200)\n",
    "model.fit(X_train_s, y_train)"
   ]
  },
  {
   "cell_type": "code",
   "execution_count": null,
   "metadata": {},
   "outputs": [],
   "source": [
    "model.best_params_"
   ]
  },
  {
   "cell_type": "code",
   "execution_count": null,
   "metadata": {},
   "outputs": [],
   "source": [
    "model = model.best_estimator_\n",
    "model.score(X_val_s, y_val)"
   ]
  },
  {
   "cell_type": "code",
   "execution_count": null,
   "metadata": {},
   "outputs": [],
   "source": [
    "#网格化搜索学习率和估计器个数\n",
    "param_grid={'learning_rate': np.linspace(0.05,0.3,6 ), 'n_estimators':[100,500,1000,1500, 2000]}\n",
    "model =GridSearchCV(estimator= LGBMRegressor(objective='regression',random_state=0), param_grid=param_grid, cv=3)\n",
    "model.fit(X_train_s, y_train)"
   ]
  },
  {
   "cell_type": "code",
   "execution_count": null,
   "metadata": {},
   "outputs": [],
   "source": [
    "model.best_params_"
   ]
  },
  {
   "cell_type": "code",
   "execution_count": null,
   "metadata": {},
   "outputs": [],
   "source": [
    "model = model.best_estimator_\n",
    "model.score(X_val_s, y_val)"
   ]
  },
  {
   "cell_type": "code",
   "execution_count": null,
   "metadata": {},
   "outputs": [],
   "source": [
    "#利用找出来的最优超参数在所有的训练集上训练，然后预测\n",
    "model=LGBMRegressor(objective='regression',subsample=0.875,learning_rate= 0.05,n_estimators= 2500,num_leaves=127,\n",
    "                    max_depth= 9,colsample_bytree=0.8,random_state=0)\n",
    "model.fit(X_train_s, y_train)\n",
    "model.score(X_val_s, y_val)"
   ]
  },
  {
   "cell_type": "markdown",
   "metadata": {},
   "source": [
    "### 变量重要性排序图"
   ]
  },
  {
   "cell_type": "code",
   "execution_count": null,
   "metadata": {},
   "outputs": [],
   "source": [
    "model=LGBMRegressor(objective='regression',subsample=0.875,learning_rate= 0.05,n_estimators= 2500,num_leaves=127,\n",
    "                    max_depth= 9,colsample_bytree=0.8,random_state=0)\n",
    "model.fit(data.to_numpy(),y.to_numpy())\n",
    "model.score(data.to_numpy(), y.to_numpy())"
   ]
  },
  {
   "cell_type": "code",
   "execution_count": null,
   "metadata": {
    "scrolled": true
   },
   "outputs": [],
   "source": [
    "sorted_index = model.feature_importances_.argsort()\n",
    "plt.barh(range(data.shape[1]), model.feature_importances_[sorted_index])\n",
    "plt.yticks(np.arange(data.shape[1]), data.columns[sorted_index])\n",
    "plt.xlabel('Feature Importance')\n",
    "plt.ylabel('Feature')\n",
    "plt.title('Gradient Boosting')"
   ]
  },
  {
   "cell_type": "markdown",
   "metadata": {},
   "source": [
    "### 预测储存"
   ]
  },
  {
   "cell_type": "code",
   "execution_count": null,
   "metadata": {},
   "outputs": [],
   "source": [
    "pred = model.predict(data2)\n",
    "df=pd.DataFrame(ID)\n",
    "df['price']=pred\n",
    "df.to_csv('全部数据预测结果.csv',index=False)"
   ]
  },
  {
   "cell_type": "code",
   "execution_count": null,
   "metadata": {},
   "outputs": [],
   "source": []
  },
  {
   "cell_type": "code",
   "execution_count": null,
   "metadata": {},
   "outputs": [],
   "source": []
  },
  {
   "cell_type": "code",
   "execution_count": null,
   "metadata": {},
   "outputs": [],
   "source": []
  }
 ],
 "metadata": {
  "kernelspec": {
   "display_name": "Python 3 (ipykernel)",
   "language": "python",
   "name": "python3"
  },
  "language_info": {
   "codemirror_mode": {
    "name": "ipython",
    "version": 3
   },
   "file_extension": ".py",
   "mimetype": "text/x-python",
   "name": "python",
   "nbconvert_exporter": "python",
   "pygments_lexer": "ipython3",
   "version": "3.9.18"
  }
 },
 "nbformat": 4,
 "nbformat_minor": 4
}
